{
 "cells": [
  {
   "attachments": {
    "0bde7cf0-8eb6-4511-a756-db2b197a7290.png": {
     "image/png": "[encoded data removed]"
    }
   },
   "cell_type": "markdown",
   "id": "2b1ca7bd",
   "metadata": {},
   "source": [
    "![scikit-learn-logo.png](attachment:0bde7cf0-8eb6-4511-a756-db2b197a7290.png)"
   ]
  },
  {
   "cell_type": "markdown",
   "id": "51021a2b",
   "metadata": {
    "tags": []
   },
   "source": [
    "# Scikit-Learn Overview\n",
    "***\n",
    "## What is Scikit-Learn?\n",
    "A Python library for machine learning, its name comes from its original function as a SciPy tool kit (Scikit) for machine learning (Learn).\n",
    "\n",
    "The library contains supervised and non-supervised algorithms as well as convenience functionality to allow you to more easily manipulate your data, like for example, ways to easily split up your datasets into testing, training and validation sets.\n",
    "But that is not to say that it acts as an alternative to numpy or pandas, but rather it provides functionality that works with these other packages.\n",
    "\n",
    "[Direct-link to scikit-learn website](https://scikit-learn.org/stable/index.html)\n",
    "***\n",
    "## How Does Scikit-Learn work?\n",
    "Across the models implemented in Scikit-Learn Estimators are the main API used, they are the objects that fit data to the model whether it be for supervised or non-supervised \n",
    "algorithms. \n",
    "\n",
    "To demonstrate the operation of sklearn I'll break this out across a few steps:\n",
    "1) Creating an estimator from a model e.g. LinearRegression().\n",
    "2) Create and shape some data to fit the estimator.\n",
    "3) Predict values not fitted to the estimator.\n",
    "4) Visualise the data used to fit and the estimator's predictions.\n",
    "\n",
    "In the next cell a simple example is shown where a estimator variable called 'lin_reg' is defined for performing some linear regression."
   ]
  },
  {
   "cell_type": "code",
   "execution_count": 1,
   "id": "8a97fa12",
   "metadata": {},
   "outputs": [],
   "source": [
    "from sklearn.linear_model import LinearRegression\n",
    "lin_reg = LinearRegression()"
   ]
  },
  {
   "cell_type": "markdown",
   "id": "1657f286",
   "metadata": {},
   "source": [
    "***\n",
    "### 'Shape' of the data\n",
    "With an estimator object initialised, it needs to be fitted to some data to be useful and be able to predict values.\n",
    "\n",
    "All data inputted to sklearn must be 2D in shape (though there is an exception to this when fitting, as you can have the response variable as 1D), this essentially means an array of array's where each in the index of the outer array essentially represents a row of data.\n",
    "\n",
    "``\n",
    "[[1,2,3]\n",
    ",[1,2,3]]\n",
    "``\n",
    "\n",
    "This is handled normally in pandas due to how it represents data natively in dataframes with rows and columns, however in the case of taking a list or numpy array it may be necessary to first reshape the data before using it to fit your model/estimator.\n",
    "\n",
    "In the next cell, a Python list is converted to an array and then reshaped so it is 2D."
   ]
  },
  {
   "cell_type": "code",
   "execution_count": 2,
   "id": "936a9170",
   "metadata": {},
   "outputs": [
    {
     "name": "stdout",
     "output_type": "stream",
     "text": [
      "Input X shape:[[1]\n",
      " [2]\n",
      " [3]\n",
      " [4]]\n",
      "Input y shape:[1, 2, 3, 4]\n"
     ]
    }
   ],
   "source": [
    "import numpy as np\n",
    "\n",
    "X = [1,2,3,4]\n",
    "y = [1,2,3,4]\n",
    "\n",
    "X = np.array(X) #Change X to numpy array and reshape\n",
    "X = X.reshape(-1,1) #Reshape so it is in format [[1],[2],...]\n",
    "\n",
    "lin_reg.fit(X,y) #equivalent to >>>lin_reg.fit([[1],[2],[3],[4]],[1,2,3,4])\n",
    "\n",
    "test = str(X)\n",
    "\n",
    "print(f\"Input X shape:{X}\\nInput y shape:{y}\")"
   ]
  },
  {
   "cell_type": "markdown",
   "id": "25be3212",
   "metadata": {},
   "source": [
    "***\n",
    "### Predicting values not used to fit\n",
    "With the estimator defined and fitted using X and y, we can now use it estimate future values, a very simple linear input was used so the predictions here will be pretty obvious.\n",
    "\n",
    "And we can see by getting the coefficient that it is a multiple of 1, so any value we want to predict will be scaled by 1.\n",
    "\n",
    "And any line will intercept the x and y-axis at 0."
   ]
  },
  {
   "cell_type": "code",
   "execution_count": 3,
   "id": "ecc15a65",
   "metadata": {},
   "outputs": [
    {
     "name": "stdout",
     "output_type": "stream",
     "text": [
      "Predicted value for one we have already fitted with; 3 = [3.]\n",
      "Predicting with values not fitted with; 5 = [5.], 6 = [6.], 10 = [10.]\n",
      "\n",
      "Coefficient [1.]\n",
      "Intercept 0.0\n"
     ]
    }
   ],
   "source": [
    "print(f\"Predicted value for one we have already fitted with; 3 = {lin_reg.predict([[3]])}\")\n",
    "print(f\"Predicting with values not fitted with; 5 = {lin_reg.predict([[5]])}, 6 = {lin_reg.predict([[6]])}, 10 = {lin_reg.predict([[10]])}\")\n",
    "print(f\"\\nCoefficient {lin_reg.coef_}\\nIntercept {lin_reg.intercept_}\")"
   ]
  },
  {
   "cell_type": "markdown",
   "id": "dff011f9",
   "metadata": {},
   "source": [
    "***\n",
    "### Visualising the Estimator\n",
    "With the fitted data and the estimator to provide predictions, the data can be plotted simply using matplotlib.\n",
    "\n",
    "Taking the points the estimator was fitted with (X and y) a few initial points will be plotted, these are the known values and will be plotted using black dots.\n",
    "\n",
    "Then some values will be predicted with the estimator, these will be pretty simple but a few incrementally larger steps will be taken, these points will be plotted using red dots.\n",
    "\n",
    "Lastly using the estimator's coefficient and intercept (and using numpy's linspace function to generate some numbers), we will create some data to show the line that any points should follow, and will overlay the points using a blue line to show this."
   ]
  },
  {
   "cell_type": "code",
   "execution_count": 4,
   "id": "eafb597e",
   "metadata": {},
   "outputs": [
    {
     "data": {
      "image/png": "[encoded data removed]",
      "text/plain": [
       "<Figure size 720x360 with 1 Axes>"
      ]
     },
     "metadata": {
      "needs_background": "light"
     },
     "output_type": "display_data"
    }
   ],
   "source": [
    "import matplotlib.pyplot as plt\n",
    "import seaborn as sns\n",
    "\n",
    "plt.figure(figsize=(10,5)) #set figure size\n",
    "\n",
    "#title and label axis'\n",
    "plt.title('Very Simple Linear Regression Example')\n",
    "plt.xlabel('X') \n",
    "plt.ylabel('y')\n",
    "\n",
    "plt.plot(X,y,'ko') #plot points we know as black dots\n",
    "\n",
    "X2 = np.array([5,6,10,20]).reshape(-1,1) #Create a new X2 variable, this will represent values to predict\n",
    "y2 = lin_reg.predict(X2) #Create y2 to hold predicted values\n",
    "plt.plot(X2,y2,'ro') #plot new data with red dots\n",
    "\n",
    "X3 = np.linspace(lin_reg.intercept_,25,26) #Create new X3 variable, this will start with model/estimators intercept\n",
    "y3 = X3*lin_reg.coef_ + lin_reg.intercept_ #y3 is X3 times the coefficient(1.0) plus the intercept(0.0)\n",
    "plt.plot(X3,y3, 'b-') #plot the line to overlay the points\n",
    "\n",
    "plt.show()"
   ]
  },
  {
   "cell_type": "markdown",
   "id": "cccc898c",
   "metadata": {},
   "source": [
    "***\n",
    "## Evaluating Estimators\n",
    "\n",
    "There are quite a few options for evaluating how good your estimator/model is at predicting and a detailed documentation can be found [here in the sklearn documentation](https://scikit-learn.org/stable/modules/model_evaluation.html).\n",
    "\n",
    "Here a few examples will be stepped through which can be easily used in determining how good your model is.\n",
    "\n",
    "### Score\n",
    "\n",
    "The score function can be used to get the $ R^2 $ of your model which takes in a feature dataset (X or X_train as will be used in later examples) and it's asssociated target dataset (y or y_train as will be used in later examples).\n",
    "\n",
    "As you can see in below example we get a score of 1.0, in a real dataset this would likely be an indication of overfitting, and for demonstration purposes this doesn't really work well, so lets redo the fit for lin_reg and this time jitter the values about a little so it's not so exactly linear."
   ]
  },
  {
   "cell_type": "code",
   "execution_count": 5,
   "id": "0479aeaf",
   "metadata": {},
   "outputs": [
    {
     "name": "stdout",
     "output_type": "stream",
     "text": [
      "Suspiciously good R-squared score: 1.0\n",
      "After adjusting values around score is: 0.7246841243136131\n"
     ]
    }
   ],
   "source": [
    "print(f\"Suspiciously good R-squared score: {lin_reg.score(X,y)}\")\n",
    "\n",
    "#refit model but make values a bit rougher\n",
    "X = [0.5,2,3,4]\n",
    "y = [1.1,0.2,4,7]\n",
    "\n",
    "X = np.array(X) #Change X to numpy array and reshape\n",
    "X = X.reshape(-1,1) #Reshape so it is in format [[1],[2],...]\n",
    "\n",
    "lin_reg.fit(X,y) #equivalent to >>>lin_reg.fit([[1],[2],[3],[4]],[1,2,3,4])\n",
    "\n",
    "print(f\"After adjusting values around score is: {lin_reg.score(X,y)}\")"
   ]
  },
  {
   "cell_type": "code",
   "execution_count": 6,
   "id": "dd0e09e9",
   "metadata": {},
   "outputs": [
    {
     "data": {
      "text/plain": [
       "[<matplotlib.lines.Line2D at 0x29ce7655af0>]"
      ]
     },
     "execution_count": 6,
     "metadata": {},
     "output_type": "execute_result"
    },
    {
     "data": {
      "image/png": "[encoded data removed]",
      "text/plain": [
       "<Figure size 720x360 with 1 Axes>"
      ]
     },
     "metadata": {
      "needs_background": "light"
     },
     "output_type": "display_data"
    }
   ],
   "source": [
    "plt.figure(figsize=(10,5)) #set figure size\n",
    "plt.title('Less Linear Linear Regression Example')\n",
    "plt.xlabel('X') \n",
    "plt.ylabel('y')\n",
    "\n",
    "plt.plot(X,y,'ko') #plot points we know as black dots\n",
    "\n",
    "Xline = np.linspace(lin_reg.intercept_,7,9) #Create new X3 variable, this will start with model/estimators intercept\n",
    "yline = Xline*lin_reg.coef_ + lin_reg.intercept_ #y3 is X3 times the coefficient(1.0) plus the intercept(0.0)\n",
    "plt.plot(Xline,yline, 'b-') #plot the line to overlay the points"
   ]
  },
  {
   "cell_type": "markdown",
   "id": "5e6966a8",
   "metadata": {},
   "source": [
    "After seeing the data both ways now it's pretty clear why the score is worse, as you can see in last plot, the blue line represents the equation of the line, so the score, the $ R^2 $ of 0.72 makes sense as the points are generally centered around the line but are not exactly on it.\n",
    "\n",
    "***\n",
    "## Mean Absolute Error (MAE)\n",
    "https://scikit-learn.org/stable/modules/generated/sklearn.metrics.mean_absolute_error.html\n",
    "\n",
    "Getting the mean absolute error is another way of evaluating your model, it tells you how far off your prediction is on average from the actual. Where the lower the MAE the better, as it means your predictions are closer to the actual.\n",
    "\n",
    "It's a fairly trivial calculation to perform, but sklearn has a package for it which is very convenient.\n",
    "\n",
    "Please note in the below example in a practical setting, you would likely also be performing this on a test set of data as outputed from train_test_split(), this will be covered later in the notebook in the Algorithm demonstrations, as there will be a proper dataset pulled in there."
   ]
  },
  {
   "cell_type": "code",
   "execution_count": 7,
   "id": "b5cc4188",
   "metadata": {},
   "outputs": [
    {
     "name": "stdout",
     "output_type": "stream",
     "text": [
      "MAE is 1.194392523364486, which given the scale of our values is really not very good.\n"
     ]
    }
   ],
   "source": [
    "from sklearn.metrics import mean_absolute_error\n",
    "\n",
    "y_pred = lin_reg.predict(X)\n",
    "print(f\"MAE is {mean_absolute_error(y_pred,y)}, which given the scale of our values is really not very good.\")"
   ]
  },
  {
   "cell_type": "markdown",
   "id": "eeaf430b",
   "metadata": {},
   "source": [
    "***\n",
    "## Cross Validation\n",
    "https://scikit-learn.org/stable/modules/generated/sklearn.model_selection.cross_val_score.html\n",
    "\n",
    "Cross validation is a way to test the robustness of the model built upon the available dataset as it reduces the risk that the training set was split in such a way that when tested it isn't truly representative. Cross validation helps to identify how the model might behave against unseen data not part of the currently available dataset.\n",
    "\n",
    "It works by splitting the dataset into random groups, it then iterates over these using one as the test set and the remaining as the training sets and it scores the model based on this. On repeat iterations it selects a different group as the training set, the final score is then the average of each of these scores.\n",
    "This process may be repeated further to randomly split the data into different groups and go again with overall score being the average across these averages."
   ]
  },
  {
   "cell_type": "markdown",
   "id": "fbdf5be1-d13e-434d-8fac-0872bd887c86",
   "metadata": {},
   "source": [
    "***\n",
    "## Data Pre-Processing - Scaling\n",
    "https://scikit-learn.org/stable/modules/preprocessing.html\n",
    "\n",
    "One consideration which hasn't been mentioned above is pre-processing data prior to fitting a model with it. Why this might need to be done is down to the scale of the values across different features/variables, you might have a significant feature which goes from 0 to 1 be overshadowed by a less significant feature which has a much larger range of values, say, 0 to 100000. The risk here is that a less significant feature which may infact have a negligible impact on the target, is treated as being more significant due to the larger range of values.\n",
    "\n",
    "Scikit-Learn's [StandardScaler](https://scikit-learn.org/stable/modules/generated/sklearn.preprocessing.StandardScaler.html) takes in a dataset and scale's the values in it, in the dataset it returns (as a numpy array) each feature will have a mean of 0 and a standard deviation and variance of 1. This gets rid of the risk described in having the data in features at different scales.\n",
    "\n",
    "In practice when training models, the train dataset scaler will be fitted without the test dataset, though this may be a little counterintuitive. The test dataset will later be scaled with that scaler but the resulting scaled test dataset will not have mean of 0. \n",
    "\n",
    "A simple example of scaling is shown below, in practice I see a mean value that is incredibly small, order of magnitude $e^-17$. This is so small it is practically 0, and likely it is due to some recurring number not evaluating neatly to 0, but for all intents and purposes it is practically 0."
   ]
  },
  {
   "cell_type": "code",
   "execution_count": 9,
   "id": "71864cb5-18ac-4d3a-97a7-12fc5b3b2319",
   "metadata": {},
   "outputs": [
    {
     "name": "stdout",
     "output_type": "stream",
     "text": [
      "Before scaling mean is: -0.00\n",
      "Before scaling standard deviation is: 1.00\n",
      "\n",
      "Scaled mean is: -0.00\n",
      "Scaled standard deviation is: 1.00\n"
     ]
    }
   ],
   "source": [
    "import numpy as np\n",
    "from sklearn.preprocessing import StandardScaler\n",
    "\n",
    "x_example_array = np.array([1,2,3,4,5,6,7,8,9,10]).reshape(-1,1)\n",
    "\n",
    "scaler = StandardScaler()\n",
    "scaler.fit(x_example_array)\n",
    "x_scaled_example_array = scaler.transform(x_example_array)\n",
    "\n",
    "print(f\"Before scaling mean is: {x_scaled_example_array.mean():.2f}\\nBefore scaling standard deviation is: {x_scaled_example_array.std():.2f}\\n\")\n",
    "print(f\"Scaled mean is: {x_scaled_example_array.mean():.2f}\\nScaled standard deviation is: {x_scaled_example_array.std():.2f}\")"
   ]
  },
  {
   "cell_type": "markdown",
   "id": "1d5cf35a",
   "metadata": {},
   "source": [
    "# Algorithm Demonstration"
   ]
  },
  {
   "cell_type": "markdown",
   "id": "9edcc3c0",
   "metadata": {},
   "source": [
    "***\n",
    "## Lasso Model\n",
    "\n",
    "In this section Lasso algorithm will be explored, but first a dataset needs to be chosen and explored a bit to familiarise with the structure of the dataset.\n",
    "\n",
    "### Selecting a dataset\n",
    "\n",
    "For this the California Housing Dataset from Scikit Learn will be used. It's an inbuilt dataset to the sklearn  datasets package, which means csv files for holding the data won't be necessary."
   ]
  },
  {
   "cell_type": "code",
   "execution_count": 10,
   "id": "d36b2e81",
   "metadata": {},
   "outputs": [],
   "source": [
    "from sklearn.datasets import fetch_california_housing\n",
    "import matplotlib.pyplot as plt\n",
    "from pprint import pprint\n",
    "import pandas as pd \n",
    "\n",
    "#get the dataset object, set as_frame=True to get pandas dataframe returned too\n",
    "cali_house_data = fetch_california_housing(as_frame=True)"
   ]
  },
  {
   "cell_type": "code",
   "execution_count": 11,
   "id": "0943f16d",
   "metadata": {},
   "outputs": [
    {
     "name": "stdout",
     "output_type": "stream",
     "text": [
      ".. _california_housing_dataset:\n",
      "\n",
      "California Housing dataset\n",
      "--------------------------\n",
      "\n",
      "**Data Set Characteristics:**\n",
      "\n",
      "    :Number of Instances: 20640\n",
      "\n",
      "    :Number of Attributes: 8 numeric, predictive attributes and the target\n",
      "\n",
      "    :Attribute Information:\n",
      "        - MedInc        median income in block group\n",
      "        - HouseAge      median house age in block group\n",
      "        - AveRooms      average number of rooms per household\n",
      "        - AveBedrms     average number of bedrooms per household\n",
      "        - Population    block group population\n",
      "        - AveOccup      average number of household members\n",
      "        - Latitude      block group latitude\n",
      "        - Longitude     block group longitude\n",
      "\n",
      "    :Missing Attribute Values: None\n",
      "\n",
      "This dataset was obtained from the StatLib repository.\n",
      "https://www.dcc.fc.up.pt/~ltorgo/Regression/cal_housing.html\n",
      "\n",
      "The target variable is the median house value for California districts,\n",
      "expressed in hundreds of thousands of dollars ($100,000).\n",
      "\n",
      "This dataset was derived from the 1990 U.S. census, using one row per census\n",
      "block group. A block group is the smallest geographical unit for which the U.S.\n",
      "Census Bureau publishes sample data (a block group typically has a population\n",
      "of 600 to 3,000 people).\n",
      "\n",
      "An household is a group of people residing within a home. Since the average\n",
      "number of rooms and bedrooms in this dataset are provided per household, these\n",
      "columns may take surpinsingly large values for block groups with few households\n",
      "and many empty houses, such as vacation resorts.\n",
      "\n",
      "It can be downloaded/loaded using the\n",
      ":func:`sklearn.datasets.fetch_california_housing` function.\n",
      "\n",
      ".. topic:: References\n",
      "\n",
      "    - Pace, R. Kelley and Ronald Barry, Sparse Spatial Autoregressions,\n",
      "      Statistics and Probability Letters, 33 (1997) 291-297\n",
      "\n",
      "dict_keys(['data', 'target', 'frame', 'target_names', 'feature_names', 'DESCR'])\n"
     ]
    }
   ],
   "source": [
    "print(cali_house_data['DESCR'])\n",
    "print(cali_house_data.keys())"
   ]
  },
  {
   "cell_type": "markdown",
   "id": "15cc1ebf",
   "metadata": {},
   "source": [
    "***\n",
    "\n",
    "### Exploring the dataset\n",
    "First print the dataset object itself to understand how it's structured, to do so pprint is used to better format the output, this gives us a pretty good idea of how the data is structured within but to make sure the object keys themselves are printed.\n",
    "\n",
    "What the dataset also conveniently tells us (which won't be the case a lot of the time) is what our features are and what the target is.\n",
    "\n",
    "By printing out the keys to the dataset how it can be used starts to become clear, where each key represents a list of values (with the exception of 'DESCR' which has a textual description of the dataset), in the next cell these will start to be stitched together to give a pandas dataframe to explore the dataset further and see if there are any potential issues like NULL values to account for. \n",
    "***"
   ]
  },
  {
   "cell_type": "code",
   "execution_count": 12,
   "id": "7ff57dda",
   "metadata": {
    "tags": []
   },
   "outputs": [
    {
     "data": {
      "text/html": [
       "<div>\n",
       "<style scoped>\n",
       "    .dataframe tbody tr th:only-of-type {\n",
       "        vertical-align: middle;\n",
       "    }\n",
       "\n",
       "    .dataframe tbody tr th {\n",
       "        vertical-align: top;\n",
       "    }\n",
       "\n",
       "    .dataframe thead th {\n",
       "        text-align: right;\n",
       "    }\n",
       "</style>\n",
       "<table border=\"1\" class=\"dataframe\">\n",
       "  <thead>\n",
       "    <tr style=\"text-align: right;\">\n",
       "      <th></th>\n",
       "      <th>MedInc</th>\n",
       "      <th>HouseAge</th>\n",
       "      <th>AveRooms</th>\n",
       "      <th>AveBedrms</th>\n",
       "      <th>Population</th>\n",
       "      <th>AveOccup</th>\n",
       "      <th>Latitude</th>\n",
       "      <th>Longitude</th>\n",
       "      <th>MedHouseVal</th>\n",
       "    </tr>\n",
       "  </thead>\n",
       "  <tbody>\n",
       "    <tr>\n",
       "      <th>0</th>\n",
       "      <td>8.3252</td>\n",
       "      <td>41.0</td>\n",
       "      <td>6.984127</td>\n",
       "      <td>1.023810</td>\n",
       "      <td>322.0</td>\n",
       "      <td>2.555556</td>\n",
       "      <td>37.88</td>\n",
       "      <td>-122.23</td>\n",
       "      <td>4.526</td>\n",
       "    </tr>\n",
       "    <tr>\n",
       "      <th>1</th>\n",
       "      <td>8.3014</td>\n",
       "      <td>21.0</td>\n",
       "      <td>6.238137</td>\n",
       "      <td>0.971880</td>\n",
       "      <td>2401.0</td>\n",
       "      <td>2.109842</td>\n",
       "      <td>37.86</td>\n",
       "      <td>-122.22</td>\n",
       "      <td>3.585</td>\n",
       "    </tr>\n",
       "    <tr>\n",
       "      <th>2</th>\n",
       "      <td>7.2574</td>\n",
       "      <td>52.0</td>\n",
       "      <td>8.288136</td>\n",
       "      <td>1.073446</td>\n",
       "      <td>496.0</td>\n",
       "      <td>2.802260</td>\n",
       "      <td>37.85</td>\n",
       "      <td>-122.24</td>\n",
       "      <td>3.521</td>\n",
       "    </tr>\n",
       "    <tr>\n",
       "      <th>3</th>\n",
       "      <td>5.6431</td>\n",
       "      <td>52.0</td>\n",
       "      <td>5.817352</td>\n",
       "      <td>1.073059</td>\n",
       "      <td>558.0</td>\n",
       "      <td>2.547945</td>\n",
       "      <td>37.85</td>\n",
       "      <td>-122.25</td>\n",
       "      <td>3.413</td>\n",
       "    </tr>\n",
       "    <tr>\n",
       "      <th>4</th>\n",
       "      <td>3.8462</td>\n",
       "      <td>52.0</td>\n",
       "      <td>6.281853</td>\n",
       "      <td>1.081081</td>\n",
       "      <td>565.0</td>\n",
       "      <td>2.181467</td>\n",
       "      <td>37.85</td>\n",
       "      <td>-122.25</td>\n",
       "      <td>3.422</td>\n",
       "    </tr>\n",
       "  </tbody>\n",
       "</table>\n",
       "</div>"
      ],
      "text/plain": [
       "   MedInc  HouseAge  AveRooms  AveBedrms  Population  AveOccup  Latitude  \\\n",
       "0  8.3252      41.0  6.984127   1.023810       322.0  2.555556     37.88   \n",
       "1  8.3014      21.0  6.238137   0.971880      2401.0  2.109842     37.86   \n",
       "2  7.2574      52.0  8.288136   1.073446       496.0  2.802260     37.85   \n",
       "3  5.6431      52.0  5.817352   1.073059       558.0  2.547945     37.85   \n",
       "4  3.8462      52.0  6.281853   1.081081       565.0  2.181467     37.85   \n",
       "\n",
       "   Longitude  MedHouseVal  \n",
       "0    -122.23        4.526  \n",
       "1    -122.22        3.585  \n",
       "2    -122.24        3.521  \n",
       "3    -122.25        3.413  \n",
       "4    -122.25        3.422  "
      ]
     },
     "execution_count": 12,
     "metadata": {},
     "output_type": "execute_result"
    }
   ],
   "source": [
    "cali_house_df = cali_house_data['frame']\n",
    "cali_house_df.head()"
   ]
  },
  {
   "cell_type": "code",
   "execution_count": 13,
   "id": "88086a09",
   "metadata": {},
   "outputs": [
    {
     "name": "stdout",
     "output_type": "stream",
     "text": [
      "<class 'pandas.core.frame.DataFrame'>\n",
      "RangeIndex: 20640 entries, 0 to 20639\n",
      "Data columns (total 9 columns):\n",
      " #   Column       Non-Null Count  Dtype  \n",
      "---  ------       --------------  -----  \n",
      " 0   MedInc       20640 non-null  float64\n",
      " 1   HouseAge     20640 non-null  float64\n",
      " 2   AveRooms     20640 non-null  float64\n",
      " 3   AveBedrms    20640 non-null  float64\n",
      " 4   Population   20640 non-null  float64\n",
      " 5   AveOccup     20640 non-null  float64\n",
      " 6   Latitude     20640 non-null  float64\n",
      " 7   Longitude    20640 non-null  float64\n",
      " 8   MedHouseVal  20640 non-null  float64\n",
      "dtypes: float64(9)\n",
      "memory usage: 1.4 MB\n"
     ]
    }
   ],
   "source": [
    "#show info on the dataframe, this will determine whether we have null values and column datatypes\n",
    "cali_house_df.info()"
   ]
  },
  {
   "cell_type": "markdown",
   "id": "5b554bd0",
   "metadata": {},
   "source": [
    "***\n",
    "Looking at the table head and it's info tells us that we have no null values - this is useful to know as it means imputing values is not necessary.\n",
    "That all columns in the dataframe are a numeric (float) type.\n",
    "It also shows there is 20640 rows total, so not an insubstantial dataset, especially when compared against the Iris dataset - this may have a consequence where any scatterplots might become very difficult to distinguish due to the number of points\n",
    "\n",
    "***\n",
    "\n",
    "Next to get an idea of what data is in the dataframe some simple hist plots are done, this can conveniently be done directly against the pandas dataframe."
   ]
  },
  {
   "cell_type": "code",
   "execution_count": 14,
   "id": "2e5f223f",
   "metadata": {},
   "outputs": [
    {
     "name": "stdout",
     "output_type": "stream",
     "text": [
      "Dataset target (what we want to predict)- ['MedHouseVal']\n",
      "Dataset features (what we can use to predict the target) - ['MedInc', 'HouseAge', 'AveRooms', 'AveBedrms', 'Population', 'AveOccup', 'Latitude', 'Longitude']\n"
     ]
    },
    {
     "data": {
      "image/png": "[encoded data removed]",
      "text/plain": [
       "<Figure size 1440x1080 with 9 Axes>"
      ]
     },
     "metadata": {
      "needs_background": "light"
     },
     "output_type": "display_data"
    }
   ],
   "source": [
    "#plot values in the dataframe with histogram\n",
    "cali_house_df.hist(figsize=(20,15))\n",
    "\n",
    "print(f\"Dataset target (what we want to predict)- {cali_house_data.target_names}\")\n",
    "print(f\"Dataset features (what we can use to predict the target) - {cali_house_data.feature_names}\")\n",
    "plt.show()"
   ]
  },
  {
   "cell_type": "markdown",
   "id": "90685e37",
   "metadata": {},
   "source": [
    "***\n",
    "By showing the target and features from the dataset alongside the histograms can now begin to see some relationships and potentially what might have the strongest influence on the target MedHouseVal.\n",
    "Looking at the above histograms doesn't tell a whole lot, and certainly doesn't describe any of how strongly any of the features may influence the target, however it does give an idea of the distributions of values, namely MedHouseVal tends to have most houses in the region of 150,000, with decreasing either side of that (with the exception of a spike in the region approaching 500,000 (maybe they went to a few rich neighbourhoods when gathering this data)\n",
    "\n",
    "***\n",
    "### Splitting our dataset to fit the model\n",
    "Next the dataset is going to be split into testing and training datasets"
   ]
  },
  {
   "cell_type": "code",
   "execution_count": 148,
   "id": "0cd453f1",
   "metadata": {},
   "outputs": [],
   "source": [
    "from sklearn.model_selection import train_test_split\n",
    "from sklearn.preprocessing import StandardScaler\n",
    "\n",
    "#exclude target column for X\n",
    "X = cali_house_df.drop('MedHouseVal',axis=1)\n",
    "\n",
    "#exclude everything but target column for y\n",
    "y = cali_house_df[['MedHouseVal']]\n",
    "X_train, X_test, y_train, y_test = train_test_split(X, y, random_state=11)#set a radom state for consistency when testing"
   ]
  },
  {
   "cell_type": "code",
   "execution_count": 149,
   "id": "0279a233-77f4-4845-81b7-7935b2f99fe1",
   "metadata": {},
   "outputs": [],
   "source": [
    "scaler = StandardScaler().fit(X_train)\n",
    "X_train_scaled = scaler.transform(X_train)\n",
    "X_test_scaled = scaler.transform(X_test)"
   ]
  },
  {
   "cell_type": "code",
   "execution_count": 150,
   "id": "66a55059",
   "metadata": {},
   "outputs": [
    {
     "name": "stdout",
     "output_type": "stream",
     "text": [
      "Model Score: -0.0008846708572047834\n",
      "\n",
      "Note: For the MAE, a value of 1 represents 100,000 dollars, so while the MAE may not look too bad it is off by over 90,000 dollars\n",
      "Model MAE: 0.9119341537918395\n"
     ]
    }
   ],
   "source": [
    "from sklearn import linear_model\n",
    "\n",
    "#initialise model\n",
    "lasso_reg = linear_model.Lasso(alpha=1)\n",
    "#fit with training data\n",
    "lasso_reg.fit(X_train_scaled,y_train)\n",
    "#get R^2 score \n",
    "print(f\"Model Score: {lasso_reg.score(X_test_scaled,y_test)}\")\n",
    "y_pred = lasso_reg.predict(X_test_scaled)\n",
    "print(\"\\nNote: For the MAE, a value of 1 represents 100,000 dollars, so while the MAE may not look too bad it is off by over 90,000 dollars\")\n",
    "print(f\"Model MAE: {mean_absolute_error(y_pred,y_test)}\")"
   ]
  },
  {
   "cell_type": "markdown",
   "id": "7628ac2d",
   "metadata": {},
   "source": [
    "***\n",
    "### Interpreting basic model evaluation\n",
    "Using Lasso model with this dataset, we get a very poor result, so we will next explore how we could improve this by tuning it's hyperparemeters.\n",
    "\n",
    "For Lasso it's alpha argument is by default set equal to 1, by setting it to 0 it acts in an equivalent manner to Linear Regression, so that's what will be tried next to see how the two compare and before doing further tuning to determine what is the best value to set for alpha.\n",
    "\n",
    "Note: there are a lot of warnings upcoming, in hindsight this is scikit warning that we are better off using LinearRegression estimator instead of setting the alpha of a lasso estimator to 0."
   ]
  },
  {
   "cell_type": "code",
   "execution_count": 151,
   "id": "8f0aacda",
   "metadata": {},
   "outputs": [
    {
     "name": "stderr",
     "output_type": "stream",
     "text": [
      "C:\\Users\\itske\\AppData\\Local\\Temp/ipykernel_11924/3912797028.py:4: UserWarning: With alpha=0, this algorithm does not converge well. You are advised to use the LinearRegression estimator\n",
      "  lasso_reg.fit(X_train_scaled,y_train)\n",
      "c:\\users\\itske\\desktop\\education\\gmit modules\\machine learning and statistics 52954\\machine-learning-and-statistics-assessment\\env\\lib\\site-packages\\sklearn\\linear_model\\_coordinate_descent.py:645: UserWarning: Coordinate descent with no regularization may lead to unexpected results and is discouraged.\n",
      "  model = cd_fast.enet_coordinate_descent(\n"
     ]
    },
    {
     "name": "stdout",
     "output_type": "stream",
     "text": [
      "Model Score: 0.60089831159643\n",
      "Model MAE: 0.537892792364812\n"
     ]
    },
    {
     "name": "stderr",
     "output_type": "stream",
     "text": [
      "c:\\users\\itske\\desktop\\education\\gmit modules\\machine learning and statistics 52954\\machine-learning-and-statistics-assessment\\env\\lib\\site-packages\\sklearn\\linear_model\\_coordinate_descent.py:645: ConvergenceWarning: Objective did not converge. You might want to increase the number of iterations, check the scale of the features or consider increasing regularisation. Duality gap: 4.034e+03, tolerance: 2.056e+00 Linear regression models with null weight for the l1 regularization term are more efficiently fitted using one of the solvers implemented in sklearn.linear_model.Ridge/RidgeCV instead.\n",
      "  model = cd_fast.enet_coordinate_descent(\n"
     ]
    }
   ],
   "source": [
    "#with alpha set to 0 should behave same as linear regression model\n",
    "lasso_reg = linear_model.Lasso(alpha=0) \n",
    "#fit model\n",
    "lasso_reg.fit(X_train_scaled,y_train)\n",
    "#get score\n",
    "lasso_reg.score(X_test_scaled,y_test)\n",
    "print(f\"Model Score: {lasso_reg.score(X_test_scaled,y_test)}\")\n",
    "y_pred = lasso_reg.predict(X_test_scaled)\n",
    "\n",
    "print(f\"Model MAE: {mean_absolute_error(y_pred,y_test)}\")"
   ]
  },
  {
   "cell_type": "markdown",
   "id": "b7fcb768",
   "metadata": {},
   "source": [
    "***\n",
    "Now that we've gotten a few warnings against what we've just done, as it reccomends that instead of setting alpha to 0 you are likely better of to either use LinearRegression or Ridge models instead.\n",
    "\n",
    "But we do indeed see a much better score and Mean Absolute Error.\n",
    "\n",
    "At this point we know that a lower alpha at 0 is better than the default of 1, but to properly determine what is the best alpha we will try tuning the hyperparameters.\n",
    "\n",
    "To do so [LassoCV](https://scikit-learn.org/stable/modules/generated/sklearn.linear_model.LassoCV.html) algorithm will be used instead of Lasso, this is because it will try and pick the best alpha value. \n",
    "\n",
    "***\n"
   ]
  },
  {
   "cell_type": "code",
   "execution_count": 152,
   "id": "3d214e98-e8dc-4574-bf9f-607c3a50de0c",
   "metadata": {},
   "outputs": [
    {
     "name": "stderr",
     "output_type": "stream",
     "text": [
      "c:\\users\\itske\\desktop\\education\\gmit modules\\machine learning and statistics 52954\\machine-learning-and-statistics-assessment\\env\\lib\\site-packages\\sklearn\\linear_model\\_coordinate_descent.py:1570: DataConversionWarning: A column-vector y was passed when a 1d array was expected. Please change the shape of y to (n_samples, ), for example using ravel().\n",
      "  y = column_or_1d(y, warn=True)\n"
     ]
    },
    {
     "name": "stdout",
     "output_type": "stream",
     "text": [
      "Model Score: 0.5997150058492091\n",
      "Model MAE: 0.5389967478694858\n",
      "LasssoCV estimator automatically picks alpha of: 0.004247038615141491\n"
     ]
    }
   ],
   "source": [
    "lasso_reg = linear_model.LassoCV()\n",
    "#fit model\n",
    "lasso_reg.fit(X_train_scaled,y_train)\n",
    "#get score\n",
    "lasso_reg.score(X_test_scaled,y_test)\n",
    "print(f\"Model Score: {lasso_reg.score(X_test_scaled,y_test)}\")\n",
    "y_pred = lasso_reg.predict(X_test_scaled)\n",
    "print(f\"Model MAE: {mean_absolute_error(y_pred,y_test)}\")\n",
    "print(f\"LasssoCV estimator automatically picks alpha of: {lasso_reg.alpha_}\")"
   ]
  },
  {
   "cell_type": "markdown",
   "id": "c939a173-97a5-44f2-b971-f336aa8760bd",
   "metadata": {},
   "source": [
    "***\n",
    "The above results are certainly better than the default alpha value of 1, however it's still not as good as 0, so to do a final check to really see is alpha of 0 (and therefore LinearRegression is the more appropriate model for this dataset) the best, we will use LassoCV's alphas parameter and pass it in an array of values from 0 to 1 in steps of 0.01.\n",
    "To do so numpy is needed and it's arange function.\n",
    "\n",
    "Below you will see (in between all the warnings that is) that indeed an alpha value of 0 is best in this case, so based on the investigations here LinearRegression would be the more appropriate algorithm to use.\n",
    "***"
   ]
  },
  {
   "cell_type": "code",
   "execution_count": 153,
   "id": "e45dddb1-eccb-44c5-97ac-b03de4860788",
   "metadata": {},
   "outputs": [
    {
     "name": "stderr",
     "output_type": "stream",
     "text": [
      "c:\\users\\itske\\desktop\\education\\gmit modules\\machine learning and statistics 52954\\machine-learning-and-statistics-assessment\\env\\lib\\site-packages\\sklearn\\linear_model\\_coordinate_descent.py:1570: DataConversionWarning: A column-vector y was passed when a 1d array was expected. Please change the shape of y to (n_samples, ), for example using ravel().\n",
      "  y = column_or_1d(y, warn=True)\n",
      "c:\\users\\itske\\desktop\\education\\gmit modules\\machine learning and statistics 52954\\machine-learning-and-statistics-assessment\\env\\lib\\site-packages\\sklearn\\linear_model\\_coordinate_descent.py:631: UserWarning: Coordinate descent with alpha=0 may lead to unexpected results and is discouraged.\n",
      "  model = cd_fast.enet_coordinate_descent_gram(\n",
      "c:\\users\\itske\\desktop\\education\\gmit modules\\machine learning and statistics 52954\\machine-learning-and-statistics-assessment\\env\\lib\\site-packages\\sklearn\\linear_model\\_coordinate_descent.py:631: ConvergenceWarning: Objective did not converge. You might want to increase the number of iterations. Duality gap: 3191.9472985970806, tolerance: 1.651607992265363\n",
      "  model = cd_fast.enet_coordinate_descent_gram(\n",
      "c:\\users\\itske\\desktop\\education\\gmit modules\\machine learning and statistics 52954\\machine-learning-and-statistics-assessment\\env\\lib\\site-packages\\sklearn\\linear_model\\_coordinate_descent.py:631: UserWarning: Coordinate descent with alpha=0 may lead to unexpected results and is discouraged.\n",
      "  model = cd_fast.enet_coordinate_descent_gram(\n",
      "c:\\users\\itske\\desktop\\education\\gmit modules\\machine learning and statistics 52954\\machine-learning-and-statistics-assessment\\env\\lib\\site-packages\\sklearn\\linear_model\\_coordinate_descent.py:631: ConvergenceWarning: Objective did not converge. You might want to increase the number of iterations. Duality gap: 3226.1227226738065, tolerance: 1.6425240475052827\n",
      "  model = cd_fast.enet_coordinate_descent_gram(\n",
      "c:\\users\\itske\\desktop\\education\\gmit modules\\machine learning and statistics 52954\\machine-learning-and-statistics-assessment\\env\\lib\\site-packages\\sklearn\\linear_model\\_coordinate_descent.py:631: UserWarning: Coordinate descent with alpha=0 may lead to unexpected results and is discouraged.\n",
      "  model = cd_fast.enet_coordinate_descent_gram(\n",
      "c:\\users\\itske\\desktop\\education\\gmit modules\\machine learning and statistics 52954\\machine-learning-and-statistics-assessment\\env\\lib\\site-packages\\sklearn\\linear_model\\_coordinate_descent.py:631: ConvergenceWarning: Objective did not converge. You might want to increase the number of iterations. Duality gap: 3241.95486258034, tolerance: 1.6507159229433526\n",
      "  model = cd_fast.enet_coordinate_descent_gram(\n",
      "c:\\users\\itske\\desktop\\education\\gmit modules\\machine learning and statistics 52954\\machine-learning-and-statistics-assessment\\env\\lib\\site-packages\\sklearn\\linear_model\\_coordinate_descent.py:631: UserWarning: Coordinate descent with alpha=0 may lead to unexpected results and is discouraged.\n",
      "  model = cd_fast.enet_coordinate_descent_gram(\n",
      "c:\\users\\itske\\desktop\\education\\gmit modules\\machine learning and statistics 52954\\machine-learning-and-statistics-assessment\\env\\lib\\site-packages\\sklearn\\linear_model\\_coordinate_descent.py:631: ConvergenceWarning: Objective did not converge. You might want to increase the number of iterations. Duality gap: 3259.224804947142, tolerance: 1.650268882106225\n",
      "  model = cd_fast.enet_coordinate_descent_gram(\n",
      "c:\\users\\itske\\desktop\\education\\gmit modules\\machine learning and statistics 52954\\machine-learning-and-statistics-assessment\\env\\lib\\site-packages\\sklearn\\linear_model\\_coordinate_descent.py:631: UserWarning: Coordinate descent with alpha=0 may lead to unexpected results and is discouraged.\n",
      "  model = cd_fast.enet_coordinate_descent_gram(\n",
      "c:\\users\\itske\\desktop\\education\\gmit modules\\machine learning and statistics 52954\\machine-learning-and-statistics-assessment\\env\\lib\\site-packages\\sklearn\\linear_model\\_coordinate_descent.py:631: ConvergenceWarning: Objective did not converge. You might want to increase the number of iterations. Duality gap: 3201.3107134339807, tolerance: 1.6290820111868332\n",
      "  model = cd_fast.enet_coordinate_descent_gram(\n",
      "c:\\users\\itske\\desktop\\education\\gmit modules\\machine learning and statistics 52954\\machine-learning-and-statistics-assessment\\env\\lib\\site-packages\\sklearn\\linear_model\\_coordinate_descent.py:1713: UserWarning: With alpha=0, this algorithm does not converge well. You are advised to use the LinearRegression estimator\n",
      "  model.fit(X, y)\n",
      "c:\\users\\itske\\desktop\\education\\gmit modules\\machine learning and statistics 52954\\machine-learning-and-statistics-assessment\\env\\lib\\site-packages\\sklearn\\linear_model\\_coordinate_descent.py:645: UserWarning: Coordinate descent with no regularization may lead to unexpected results and is discouraged.\n",
      "  model = cd_fast.enet_coordinate_descent(\n"
     ]
    },
    {
     "name": "stdout",
     "output_type": "stream",
     "text": [
      "Model Score: 0.6008983115964301\n",
      "Model MAE: 0.537892792364812\n",
      "LasssoCV estimator automatically picks alpha of: 0.0\n"
     ]
    },
    {
     "name": "stderr",
     "output_type": "stream",
     "text": [
      "c:\\users\\itske\\desktop\\education\\gmit modules\\machine learning and statistics 52954\\machine-learning-and-statistics-assessment\\env\\lib\\site-packages\\sklearn\\linear_model\\_coordinate_descent.py:645: ConvergenceWarning: Objective did not converge. You might want to increase the number of iterations, check the scale of the features or consider increasing regularisation. Duality gap: 4.034e+03, tolerance: 2.056e+00 Linear regression models with null weight for the l1 regularization term are more efficiently fitted using one of the solvers implemented in sklearn.linear_model.Ridge/RidgeCV instead.\n",
      "  model = cd_fast.enet_coordinate_descent(\n"
     ]
    }
   ],
   "source": [
    "import numpy as np\n",
    "lasso_reg = linear_model.LassoCV(alphas=np.arange(0,1,0.01))\n",
    "#fit model\n",
    "lasso_reg.fit(X_train,y_train)\n",
    "#get score\n",
    "lasso_reg.score(X_test,y_test)\n",
    "print(f\"Model Score: {lasso_reg.score(X_test,y_test)}\")\n",
    "y_pred = lasso_reg.predict(X_test)\n",
    "print(f\"Model MAE: {mean_absolute_error(y_pred,y_test)}\")\n",
    "print(f\"LasssoCV estimator automatically picks alpha of: {lasso_reg.alpha_}\")"
   ]
  },
  {
   "cell_type": "markdown",
   "id": "0d32a367-587f-41e4-97ca-021394ab6ea5",
   "metadata": {},
   "source": [
    "***\n",
    "Finally with Lasso Regression now that we have tuned the hyperparameters and determined alpha, the coefficients are looked at, to see what are the most significant features and potentially what ones could be dropped. \n",
    "\n",
    "It shouldn't be necessary to drop any features in the case of Lasso as it's supposed to do it's own feature selection, however as we've found the best alpha as 0, it's not really doing any feature selection and is behaving the same as Linear Regression.\n",
    "\n",
    "***"
   ]
  },
  {
   "cell_type": "code",
   "execution_count": 154,
   "id": "751a0752-118b-4038-804f-c0231116c696",
   "metadata": {},
   "outputs": [
    {
     "name": "stdout",
     "output_type": "stream",
     "text": [
      "Feature: MedInc, Score: 0.43770\n",
      "Feature: HouseAge, Score: 0.00922\n",
      "Feature: AveRooms, Score: -0.10733\n",
      "Feature: AveBedrms, Score: 0.61171\n",
      "Feature: Population, Score: -0.00001\n",
      "Feature: AveOccup, Score: -0.00338\n",
      "Feature: Latitude, Score: -0.41948\n",
      "Feature: Longitude, Score: -0.43377\n"
     ]
    }
   ],
   "source": [
    "importance = lasso_reg.coef_\n",
    "#print out the coefficient of each feature\n",
    "for i,v in enumerate(importance):\n",
    "    print(f'Feature: {X.columns[i]}, Score: {v:.5f}')"
   ]
  },
  {
   "cell_type": "markdown",
   "id": "8a203091-d585-49db-be06-99406cd5e4e5",
   "metadata": {},
   "source": [
    "TODO:\n",
    "* Add subsection showing cross validation "
   ]
  },
  {
   "cell_type": "markdown",
   "id": "c6cb59e5",
   "metadata": {},
   "source": [
    "## Classification Model - K Nearest Neighbours\n",
    "\n",
    "When performing K nearest neigbours modeling there's a couple criteria to consider.\n",
    "Firstly, what features or dimensions should be used, K-Nearest Neighbours does not deal well with many features, so likely these will need to be reduced.\n",
    "Secondly, how many neighbours is appropriate, to determine this will try fitting the model against different numbers of clusters and see which returns the best score.\n",
    "\n",
    "### Dataset selection\n",
    "\n",
    "For using this model an appropriate dataset is needed, again here sklearns datasets package will be used, this time selecting a dataset that is appropriate for a classification algorithm.\n",
    "\n",
    "load_breast_cancer is used below, this dataset has a decent amount of features, which will likely need to be narrowed down to reduce the risk of model overfitting and hopefully improve model score.\n",
    "It has two classes that are being sought for the target variable; 'benign' and 'malignant', being the types of cancer ."
   ]
  },
  {
   "cell_type": "code",
   "execution_count": 22,
   "id": "8c1de5b7-338f-4c6f-8ec2-fbc2a27f4527",
   "metadata": {},
   "outputs": [
    {
     "name": "stdout",
     "output_type": "stream",
     "text": [
      ".. _breast_cancer_dataset:\n",
      "\n",
      "Breast cancer wisconsin (diagnostic) dataset\n",
      "--------------------------------------------\n",
      "\n",
      "**Data Set Characteristics:**\n",
      "\n",
      "    :Number of Instances: 569\n",
      "\n",
      "    :Number of Attributes: 30 numeric, predictive attributes and the class\n",
      "\n",
      "    :Attribute Information:\n",
      "        - radius (mean of distances from center to points on the perimeter)\n",
      "        - texture (standard deviation of gray-scale values)\n",
      "        - perimeter\n",
      "        - area\n",
      "        - smoothness (local variation in radius lengths)\n",
      "        - compactness (perimeter^2 / area - 1.0)\n",
      "        - concavity (severity of concave portions of the contour)\n",
      "        - concave points (number of concave portions of the contour)\n",
      "        - symmetry\n",
      "        - fractal dimension (\"coastline approximation\" - 1)\n",
      "\n",
      "        The mean, standard error, and \"worst\" or largest (mean of the three\n",
      "        worst/largest values) of these features were computed for each image,\n",
      "        resulting in 30 features.  For instance, field 0 is Mean Radius, field\n",
      "        10 is Radius SE, field 20 is Worst Radius.\n",
      "\n",
      "        - class:\n",
      "                - WDBC-Malignant\n",
      "                - WDBC-Benign\n",
      "\n",
      "    :Summary Statistics:\n",
      "\n",
      "    ===================================== ====== ======\n",
      "                                           Min    Max\n",
      "    ===================================== ====== ======\n",
      "    radius (mean):                        6.981  28.11\n",
      "    texture (mean):                       9.71   39.28\n",
      "    perimeter (mean):                     43.79  188.5\n",
      "    area (mean):                          143.5  2501.0\n",
      "    smoothness (mean):                    0.053  0.163\n",
      "    compactness (mean):                   0.019  0.345\n",
      "    concavity (mean):                     0.0    0.427\n",
      "    concave points (mean):                0.0    0.201\n",
      "    symmetry (mean):                      0.106  0.304\n",
      "    fractal dimension (mean):             0.05   0.097\n",
      "    radius (standard error):              0.112  2.873\n",
      "    texture (standard error):             0.36   4.885\n",
      "    perimeter (standard error):           0.757  21.98\n",
      "    area (standard error):                6.802  542.2\n",
      "    smoothness (standard error):          0.002  0.031\n",
      "    compactness (standard error):         0.002  0.135\n",
      "    concavity (standard error):           0.0    0.396\n",
      "    concave points (standard error):      0.0    0.053\n",
      "    symmetry (standard error):            0.008  0.079\n",
      "    fractal dimension (standard error):   0.001  0.03\n",
      "    radius (worst):                       7.93   36.04\n",
      "    texture (worst):                      12.02  49.54\n",
      "    perimeter (worst):                    50.41  251.2\n",
      "    area (worst):                         185.2  4254.0\n",
      "    smoothness (worst):                   0.071  0.223\n",
      "    compactness (worst):                  0.027  1.058\n",
      "    concavity (worst):                    0.0    1.252\n",
      "    concave points (worst):               0.0    0.291\n",
      "    symmetry (worst):                     0.156  0.664\n",
      "    fractal dimension (worst):            0.055  0.208\n",
      "    ===================================== ====== ======\n",
      "\n",
      "    :Missing Attribute Values: None\n",
      "\n",
      "    :Class Distribution: 212 - Malignant, 357 - Benign\n",
      "\n",
      "    :Creator:  Dr. William H. Wolberg, W. Nick Street, Olvi L. Mangasarian\n",
      "\n",
      "    :Donor: Nick Street\n",
      "\n",
      "    :Date: November, 1995\n",
      "\n",
      "This is a copy of UCI ML Breast Cancer Wisconsin (Diagnostic) datasets.\n",
      "https://goo.gl/U2Uwz2\n",
      "\n",
      "Features are computed from a digitized image of a fine needle\n",
      "aspirate (FNA) of a breast mass.  They describe\n",
      "characteristics of the cell nuclei present in the image.\n",
      "\n",
      "Separating plane described above was obtained using\n",
      "Multisurface Method-Tree (MSM-T) [K. P. Bennett, \"Decision Tree\n",
      "Construction Via Linear Programming.\" Proceedings of the 4th\n",
      "Midwest Artificial Intelligence and Cognitive Science Society,\n",
      "pp. 97-101, 1992], a classification method which uses linear\n",
      "programming to construct a decision tree.  Relevant features\n",
      "were selected using an exhaustive search in the space of 1-4\n",
      "features and 1-3 separating planes.\n",
      "\n",
      "The actual linear program used to obtain the separating plane\n",
      "in the 3-dimensional space is that described in:\n",
      "[K. P. Bennett and O. L. Mangasarian: \"Robust Linear\n",
      "Programming Discrimination of Two Linearly Inseparable Sets\",\n",
      "Optimization Methods and Software 1, 1992, 23-34].\n",
      "\n",
      "This database is also available through the UW CS ftp server:\n",
      "\n",
      "ftp ftp.cs.wisc.edu\n",
      "cd math-prog/cpo-dataset/machine-learn/WDBC/\n",
      "\n",
      ".. topic:: References\n",
      "\n",
      "   - W.N. Street, W.H. Wolberg and O.L. Mangasarian. Nuclear feature extraction \n",
      "     for breast tumor diagnosis. IS&T/SPIE 1993 International Symposium on \n",
      "     Electronic Imaging: Science and Technology, volume 1905, pages 861-870,\n",
      "     San Jose, CA, 1993.\n",
      "   - O.L. Mangasarian, W.N. Street and W.H. Wolberg. Breast cancer diagnosis and \n",
      "     prognosis via linear programming. Operations Research, 43(4), pages 570-577, \n",
      "     July-August 1995.\n",
      "   - W.H. Wolberg, W.N. Street, and O.L. Mangasarian. Machine learning techniques\n",
      "     to diagnose breast cancer from fine-needle aspirates. Cancer Letters 77 (1994) \n",
      "     163-171.\n"
     ]
    }
   ],
   "source": [
    "from sklearn.datasets import load_breast_cancer\n",
    "from sklearn.neighbors import KNeighborsClassifier\n",
    "\n",
    "#could do same as above, bring in as dataframe but want to try the default way\n",
    "breast_cancer_dataset = load_breast_cancer(as_frame=True)\n",
    "breast_cancer_df = breast_cancer_dataset['frame']\n",
    "#print description of dataset\n",
    "print(breast_cancer_dataset['DESCR'])"
   ]
  },
  {
   "cell_type": "code",
   "execution_count": 23,
   "id": "3fe6a078-ee01-4828-8a79-d899172b33c7",
   "metadata": {},
   "outputs": [
    {
     "name": "stdout",
     "output_type": "stream",
     "text": [
      "Dataset feature names:\n",
      "['mean radius' 'mean texture' 'mean perimeter' 'mean area'\n",
      " 'mean smoothness' 'mean compactness' 'mean concavity'\n",
      " 'mean concave points' 'mean symmetry' 'mean fractal dimension'\n",
      " 'radius error' 'texture error' 'perimeter error' 'area error'\n",
      " 'smoothness error' 'compactness error' 'concavity error'\n",
      " 'concave points error' 'symmetry error' 'fractal dimension error'\n",
      " 'worst radius' 'worst texture' 'worst perimeter' 'worst area'\n",
      " 'worst smoothness' 'worst compactness' 'worst concavity'\n",
      " 'worst concave points' 'worst symmetry' 'worst fractal dimension']\n",
      "\n",
      "Dataset target names:\n",
      "['malignant' 'benign']\n"
     ]
    }
   ],
   "source": [
    "print(f\"Dataset feature names:\\n{breast_cancer_dataset['feature_names']}\")\n",
    "print(f\"\\nDataset target names:\\n{breast_cancer_dataset['target_names']}\")"
   ]
  },
  {
   "cell_type": "markdown",
   "id": "3deac74f-5268-4637-9500-b5946af8067c",
   "metadata": {},
   "source": [
    "***\n",
    "At this point we don't actually know what 0 or 1 represents, which is 'malignant' and which is 'benign', could assume these are ordered, however we know the counts of each in the dataset from the dataset description."
   ]
  },
  {
   "cell_type": "code",
   "execution_count": 24,
   "id": "ee62e52b-ba20-4d77-81f9-df8f3d953c2c",
   "metadata": {},
   "outputs": [
    {
     "name": "stdout",
     "output_type": "stream",
     "text": [
      "0 has count 212\n",
      "1 has count 357\n"
     ]
    }
   ],
   "source": [
    "#instead of using the pandas dataframe will instead use the numpy array but unfortunately we can't use row-wise filters like can be done with pandas\n",
    "unique, counts = np.unique(breast_cancer_dataset['target'], return_counts=True) #get unique values and count using numpy's unique function\n",
    "#loop over values showing count of each unique value\n",
    "for i in range(len(unique)):\n",
    "    print(f\"{unique[i]} has count {counts[i]}\")"
   ]
  },
  {
   "cell_type": "markdown",
   "id": "3e5e1343-8382-4d08-8c42-3e7d26402188",
   "metadata": {},
   "source": [
    "This confirms the earlier assumption that the order is preserved."
   ]
  },
  {
   "cell_type": "code",
   "execution_count": 25,
   "id": "4415c87a-1735-4bac-ab76-6d690db4294b",
   "metadata": {},
   "outputs": [
    {
     "name": "stdout",
     "output_type": "stream",
     "text": [
      "Looking at Dataframe info, shows every column is float type except for the target and shows that there are no NULL's\n",
      "\n",
      "<class 'pandas.core.frame.DataFrame'>\n",
      "RangeIndex: 569 entries, 0 to 568\n",
      "Data columns (total 31 columns):\n",
      " #   Column                   Non-Null Count  Dtype  \n",
      "---  ------                   --------------  -----  \n",
      " 0   mean radius              569 non-null    float64\n",
      " 1   mean texture             569 non-null    float64\n",
      " 2   mean perimeter           569 non-null    float64\n",
      " 3   mean area                569 non-null    float64\n",
      " 4   mean smoothness          569 non-null    float64\n",
      " 5   mean compactness         569 non-null    float64\n",
      " 6   mean concavity           569 non-null    float64\n",
      " 7   mean concave points      569 non-null    float64\n",
      " 8   mean symmetry            569 non-null    float64\n",
      " 9   mean fractal dimension   569 non-null    float64\n",
      " 10  radius error             569 non-null    float64\n",
      " 11  texture error            569 non-null    float64\n",
      " 12  perimeter error          569 non-null    float64\n",
      " 13  area error               569 non-null    float64\n",
      " 14  smoothness error         569 non-null    float64\n",
      " 15  compactness error        569 non-null    float64\n",
      " 16  concavity error          569 non-null    float64\n",
      " 17  concave points error     569 non-null    float64\n",
      " 18  symmetry error           569 non-null    float64\n",
      " 19  fractal dimension error  569 non-null    float64\n",
      " 20  worst radius             569 non-null    float64\n",
      " 21  worst texture            569 non-null    float64\n",
      " 22  worst perimeter          569 non-null    float64\n",
      " 23  worst area               569 non-null    float64\n",
      " 24  worst smoothness         569 non-null    float64\n",
      " 25  worst compactness        569 non-null    float64\n",
      " 26  worst concavity          569 non-null    float64\n",
      " 27  worst concave points     569 non-null    float64\n",
      " 28  worst symmetry           569 non-null    float64\n",
      " 29  worst fractal dimension  569 non-null    float64\n",
      " 30  target                   569 non-null    int32  \n",
      "dtypes: float64(30), int32(1)\n",
      "memory usage: 135.7 KB\n",
      "None\n"
     ]
    }
   ],
   "source": [
    "print(\"Looking at Dataframe info, shows every column is float type except for the target and shows that there are no NULL's\\n\")\n",
    "print(breast_cancer_df.info())"
   ]
  },
  {
   "cell_type": "code",
   "execution_count": 26,
   "id": "25b36665-4ca0-47a2-a594-b9c1e5991001",
   "metadata": {},
   "outputs": [
    {
     "data": {
      "text/plain": [
       "<AxesSubplot:>"
      ]
     },
     "execution_count": 26,
     "metadata": {},
     "output_type": "execute_result"
    },
    {
     "data": {
      "image/png": "[encoded data removed]",
      "text/plain": [
       "<Figure size 720x504 with 2 Axes>"
      ]
     },
     "metadata": {
      "needs_background": "light"
     },
     "output_type": "display_data"
    }
   ],
   "source": [
    "plt.figure(figsize=(10,7)) #set figure size\n",
    "sns.heatmap(breast_cancer_df.corr()) #plot correlation heatmap for dataframe"
   ]
  },
  {
   "cell_type": "markdown",
   "id": "39202120-ecd6-45d3-99df-fd97517092f7",
   "metadata": {},
   "source": [
    "Looking at the heatmap, some features stand out as having good correlation, such as Mean radius with Mean perimeter and Mean radius with Worst radius."
   ]
  },
  {
   "cell_type": "code",
   "execution_count": null,
   "id": "aded7fcb-f892-4913-96e9-11f21957b537",
   "metadata": {},
   "outputs": [],
   "source": []
  },
  {
   "cell_type": "markdown",
   "id": "0a055777-9208-4033-b651-e2610cd9e22c",
   "metadata": {},
   "source": [
    "At this point it's understood what our features and target is that K means clustering will be performed on, the data itself is fine and doesn't appear to need any imputing to fix missing (NULL) values."
   ]
  },
  {
   "cell_type": "code",
   "execution_count": 27,
   "id": "aea1a413-8b36-4e5d-9c71-5c1ce53c18ec",
   "metadata": {},
   "outputs": [],
   "source": [
    "#exclude target column for X\n",
    "X = breast_cancer_df.drop('target',axis=1)\n",
    "#X = X[['mean radius','mean texture', 'mean perimeter','mean area']]\n",
    "\n",
    "#exclude everything but target column for y\n",
    "y = breast_cancer_df[['target']]\n",
    "X_train, X_test, y_train, y_test = train_test_split(X, y, random_state=11)#set a radom state for consistency when testing"
   ]
  },
  {
   "cell_type": "markdown",
   "id": "365f665b-076e-4e1a-95b9-c54e37835a3b",
   "metadata": {},
   "source": [
    "### Scaling"
   ]
  },
  {
   "cell_type": "code",
   "execution_count": 28,
   "id": "02211e94-c7dc-4292-b810-46c7b247dc5f",
   "metadata": {},
   "outputs": [],
   "source": [
    "scaler = StandardScaler()\n",
    "scaler.fit(X_train)\n",
    "X_train_scaled = scaler.transform(X_train)\n",
    "X_test_scaled = scaler.transform(X_test)"
   ]
  },
  {
   "cell_type": "markdown",
   "id": "04aa180d-9406-4292-ac2f-28d017db277d",
   "metadata": {},
   "source": [
    "### Fit model without any tuning"
   ]
  },
  {
   "cell_type": "code",
   "execution_count": 29,
   "id": "1f1ee9e9-2636-4320-afb9-60039780c327",
   "metadata": {},
   "outputs": [
    {
     "name": "stdout",
     "output_type": "stream",
     "text": [
      "Initial model score, without doing any optomisation or tuning: 0.972027972027972\n"
     ]
    }
   ],
   "source": [
    "nei_class = KNeighborsClassifier()\n",
    "nei_class.fit(X_train_scaled,y_train.values.ravel())\n",
    "print(f\"Initial model score, without doing any optomisation or tuning: {nei_class.score(X_test_scaled,y_test)}\")"
   ]
  },
  {
   "cell_type": "code",
   "execution_count": 30,
   "id": "84f05ee0-b652-431a-9df3-7ead302fb2aa",
   "metadata": {
    "tags": []
   },
   "outputs": [
    {
     "name": "stdout",
     "output_type": "stream",
     "text": [
      "From loop minimal number of neighbours which gives best score is: 10\n",
      "Best Score: 0.986013986013986, Optimal Weight for that score: uniform\n"
     ]
    }
   ],
   "source": [
    "#model_score = []\n",
    "model_score_dict = {}\n",
    "for i in range(1,20):\n",
    "    nei_class = KNeighborsClassifier(n_neighbors=i,weights='uniform', leaf_size=100)#try uniform weight\n",
    "    nei_class.fit(X_train_scaled,y_train.values.ravel())\n",
    "    uniform_score = nei_class.score(X_test_scaled,y_test.values.ravel())\n",
    "    \n",
    "    nei_class = KNeighborsClassifier(n_neighbors=i,weights='distance', leaf_size=100)#try distance weight\n",
    "    nei_class.fit(X_train_scaled,y_train.values.ravel())\n",
    "    distance_score = nei_class.score(X_test_scaled,y_test.values.ravel())\n",
    "    \n",
    "    #if distance score is less than or equal to uniform score then will go with the default weights argument; uniform\n",
    "    if(distance_score <= uniform_score):\n",
    "        model_score_dict[i] = {\"score\": uniform_score, \"weights\": \"uniform\"}\n",
    "    else:\n",
    "        model_score_dict[i] = {\"score\": distance_score, \"weights\": \"distance\"}\n",
    "    \n",
    "best_neighbours = max(model_score_dict, key= lambda x: model_score_dict[x].get('score'))\n",
    "\n",
    "print(f\"From loop minimal number of neighbours which gives best score is: {best_neighbours}\")\n",
    "print(f\"Best Score: {model_score_dict[best_neighbours]['score']}, Optimal Weight for that score: {model_score_dict[best_neighbours]['weights']}\")"
   ]
  },
  {
   "cell_type": "code",
   "execution_count": 31,
   "id": "8e881788-e054-441c-8526-41845c361ebd",
   "metadata": {},
   "outputs": [
    {
     "data": {
      "text/plain": [
       "{1: {'score': 0.9370629370629371, 'weights': 'uniform'},\n",
       " 2: {'score': 0.9440559440559441, 'weights': 'uniform'},\n",
       " 3: {'score': 0.965034965034965, 'weights': 'uniform'},\n",
       " 4: {'score': 0.9790209790209791, 'weights': 'uniform'},\n",
       " 5: {'score': 0.972027972027972, 'weights': 'uniform'},\n",
       " 6: {'score': 0.972027972027972, 'weights': 'uniform'},\n",
       " 7: {'score': 0.972027972027972, 'weights': 'uniform'},\n",
       " 8: {'score': 0.972027972027972, 'weights': 'uniform'},\n",
       " 9: {'score': 0.9790209790209791, 'weights': 'uniform'},\n",
       " 10: {'score': 0.986013986013986, 'weights': 'uniform'},\n",
       " 11: {'score': 0.986013986013986, 'weights': 'uniform'},\n",
       " 12: {'score': 0.986013986013986, 'weights': 'uniform'},\n",
       " 13: {'score': 0.986013986013986, 'weights': 'uniform'},\n",
       " 14: {'score': 0.986013986013986, 'weights': 'uniform'},\n",
       " 15: {'score': 0.986013986013986, 'weights': 'uniform'},\n",
       " 16: {'score': 0.986013986013986, 'weights': 'uniform'},\n",
       " 17: {'score': 0.972027972027972, 'weights': 'uniform'},\n",
       " 18: {'score': 0.9790209790209791, 'weights': 'uniform'},\n",
       " 19: {'score': 0.965034965034965, 'weights': 'uniform'}}"
      ]
     },
     "execution_count": 31,
     "metadata": {},
     "output_type": "execute_result"
    }
   ],
   "source": [
    "model_score_dict"
   ]
  },
  {
   "cell_type": "markdown",
   "id": "b8a77e0f-49fb-4889-b1f8-ddcd913441b6",
   "metadata": {},
   "source": [
    "### Model Selection functions\n",
    "\n",
    "Some steps done above can be more automated, for example we can replace the loop to pick out the optimal set of neighbours for our model and instead use sklearn's [GridSearchCV](https://scikit-legarn.org/stable/modules/generated/sklearn.model_selection.GridSearchCV.html) to automate this, further we can also perform cross validation with this function also.\n",
    "\n",
    "For this approach we need to create a dictionary of parameters to test, in the case below we will try a range of 1 to 20 neighbours and we will also test how we want to weight the neighbours, whether they are uniformly weighted or weighted based on their distance.\n",
    "\n",
    "Secondly cross validation will be applied to the dataset using [RepeatedStratifiedKFold](https://scikit-learn.org/stable/modules/generated/sklearn.model_selection.RepeatedStratifiedKFold.html)\n",
    "\n",
    "In reading up on GridSearchCV and how to implement a scaler with this approach, it introduced the concept of a [pipeline](https://scikit-learn.org/stable/modules/generated/sklearn.pipeline.Pipeline.html), so this will also be performed below. Pipeline's perform a sequence of transformations to prepare the data just as has already been manually done with creating the scaler, fitting it and then transforming data. Implementing a pipeline will allow us to pipe the scaling operation into the gridsearch, which when we fit it, will automatically do the scaling just as done above, along with the cross validation and hyperparameter tuning.\n",
    "\n",
    "One strange quirk that took a while to figure out with the pipeline, is that the parameters passed into GridSearchCV need to reference the other parameters names in the pipeline, so to reference 'knn' below a double underscore needed to be added in front of every parameter to pass into the KNeighborsClassifier()."
   ]
  },
  {
   "cell_type": "code",
   "execution_count": 32,
   "id": "9d86cb40-ccb9-4311-afbc-4db90740c8da",
   "metadata": {
    "tags": []
   },
   "outputs": [
    {
     "name": "stdout",
     "output_type": "stream",
     "text": [
      "Best parameters picked out by gridsearch: {'knn__n_neighbors': 4, 'knn__weights': 'uniform'}\n",
      "Best score for the given parameters: 0.9683688387635756\n"
     ]
    }
   ],
   "source": [
    "from sklearn.model_selection import GridSearchCV, RepeatedStratifiedKFold\n",
    "from sklearn.pipeline import Pipeline\n",
    "\n",
    "pipe = Pipeline([('scaler', StandardScaler()),\n",
    "                 ('knn', KNeighborsClassifier())])\n",
    "\n",
    "#parameters to try out with model\n",
    "parameters = {\n",
    "    \"knn__n_neighbors\": range(1, 20),\n",
    "    \"knn__weights\": [\"uniform\", \"distance\"]\n",
    "}\n",
    "\n",
    "#cross validate, split dataset into 10 random groups, do this 3 different times\n",
    "cv = RepeatedStratifiedKFold(n_splits=10, n_repeats=3, random_state=11)\n",
    "\n",
    "#gridsearch will apply parameters and the cross validation data to the model\n",
    "knn_gridsearch = GridSearchCV(pipe, parameters, scoring='accuracy', cv=cv, return_train_score=True)\n",
    "#fit the model grid using X and y (don't need to split data here as will be done via cross-validation\n",
    "knn_gridsearch.fit(X.values, y.values.ravel())\n",
    "\n",
    "print(f\"Best parameters picked out by gridsearch: {knn_gridsearch.best_params_}\")\n",
    "print(f\"Best score for the given parameters: {knn_gridsearch.best_score_}\")"
   ]
  },
  {
   "cell_type": "markdown",
   "id": "1024f5a7-dbca-49af-b940-ac176d12cce3",
   "metadata": {},
   "source": [
    "Looking at the best score and the best parameters selected, we can see that it differs from earlier manual testing, which had stated it as being 10 neigbors and a better score.\n",
    "\n",
    "It's not entirely clear to me why this is happening and I've been unable to find a defintive reason (despite spending a decent bit of time searching) but an educated guess is that it is due to how previously train_test_split was used to train the model and then test it, but now with GridSearchCV train_test_split is not being used and instead the more robust cross-validation (using RepeatedStratifiedKFold) is used, these both will split the data differently even if we use the same random_state value.\n",
    "***"
   ]
  },
  {
   "cell_type": "markdown",
   "id": "b76aa67c-de21-4882-8c9b-36a4d7c11564",
   "metadata": {},
   "source": [
    "### Feature Selection\n",
    "In the above example with K nearest neighbours we're seeing a very good accuracy of in around 96%, but can we improve this by narrowing down the variables or can we keep the same score by narrowing down the features, that is what Recursive Feature Elimination will enable. Or atleast so I thought, unfortunately RFE does not work well with K nearest neighbors.\n",
    "\n",
    "When doing feature selection there are a number of options: \n",
    "* PCA (Principal Componenet Analysis) can be used though from my reading seems to be controversial in how effective it is (and it confused me sufficiently that after spending an hour reading up on it decided not to implement as wouldn't do it justice) \n",
    "* RFE which will be explored in this notebook and further explained.\n",
    "* Univariate selection which uses statistical tests to determine the features with strongest relationship to the target variable\n",
    "\n",
    "Recursive Feature Elmination recursively removes features, builds the model with the remaining ones and ultimately returns which features resulted in the best model score. It will try out all the combinations and tell you the best features which is exactly what is desired and is pretty logical approach, e.g. if you want to find out what is the best number of features and the most significant ones, simply try them all out. Not having much of a statistical background this makes it the most attractive to me as it is a straightforward and understandable approach, and from reading up on the other options listed above makes it the obvious choice for my first foray into feature selection.\n",
    "\n",
    "One potential issue I can see with this approach is the potential computational costs if performing this on a very large dataset with many features."
   ]
  },
  {
   "cell_type": "code",
   "execution_count": 111,
   "id": "3576e668-6b3f-4572-abc2-17366e105e87",
   "metadata": {},
   "outputs": [
    {
     "name": "stdout",
     "output_type": "stream",
     "text": [
      "5 best features are: Index(['mean perimeter', 'mean concave points', 'worst radius',\n",
      "       'worst perimeter', 'worst concave points'],\n",
      "      dtype='object')\n",
      "Fitting the model without splitting into train/test set's and with above features fives score of: 0.968365553602812\n",
      "With all features the model has a score of: 0.984182776801406\n"
     ]
    }
   ],
   "source": [
    "#Inspired by this article - https://machinelearningmastery.com/feature-selection-machine-learning-python/\n",
    "from sklearn.feature_selection import SelectKBest, f_classif\n",
    "from numpy import set_printoptions\n",
    "\n",
    "#initialise SelectKBest, arbitraily for now picking 5 features\n",
    "num_features=5\n",
    "feat_select = SelectKBest(score_func=f_classif, k=num_features)\n",
    "#fit to data\n",
    "feat_select.fit(X, y.values.ravel())\n",
    "#best features are True values in array\n",
    "feature_filter = feat_select.get_support()\n",
    "print(f\"{num_features} best features are: {X.columns[feature_filter]}\")\n",
    "\n",
    "X_new = X[X.columns[feature_filter]]\n",
    "#use pipeline to simplify setting up of model and scaling\n",
    "pipe = Pipeline([('scaler', StandardScaler()),\n",
    "                 ('knn', KNeighborsClassifier(n_neighbors=4, weights='uniform'))])\n",
    "pipe.fit(X_new.values, y.values.ravel())\n",
    "\n",
    "print(f\"Fitting the model without splitting into train/test set's and with above features fives score of: {pipe.score(X_new.values, y.values.ravel())}\")\n",
    "\n",
    "pipe.fit(X.values, y.values.ravel())\n",
    "print(f\"With all features the model has a score of: {pipe.score(X.values, y.values.ravel())}\")"
   ]
  },
  {
   "cell_type": "markdown",
   "id": "78c51b8d-17dd-472e-9f9d-287dc735d2fa",
   "metadata": {},
   "source": [
    "As can be seen above, with just 5 features from the overall dataset we're not getting as good a score, so to exhaustively check this, I'll set up a loop below and try out every a range of k values with SelectKBest and figure out which combniation gives the best score."
   ]
  },
  {
   "cell_type": "code",
   "execution_count": 126,
   "id": "f55dc710-3a40-4d17-8e5d-efd960c12d07",
   "metadata": {},
   "outputs": [
    {
     "name": "stdout",
     "output_type": "stream",
     "text": [
      "Scores for best feature by number of features:\n",
      "{1: 0.9261862917398945,\n",
      " 2: 0.9543057996485061,\n",
      " 3: 0.9490333919156415,\n",
      " 4: 0.9630931458699473,\n",
      " 5: 0.968365553602812,\n",
      " 6: 0.9666080843585237,\n",
      " 7: 0.9718804920913884,\n",
      " 8: 0.9718804920913884,\n",
      " 9: 0.9630931458699473,\n",
      " 10: 0.9648506151142355,\n",
      " 11: 0.9666080843585237,\n",
      " 12: 0.9630931458699473,\n",
      " 13: 0.961335676625659,\n",
      " 14: 0.9578207381370826,\n",
      " 15: 0.9578207381370826,\n",
      " 16: 0.9666080843585237,\n",
      " 17: 0.9753954305799648,\n",
      " 18: 0.9824253075571178,\n",
      " 19: 0.9789103690685413,\n",
      " 20: 0.984182776801406,\n",
      " 21: 0.9771528998242531,\n",
      " 22: 0.9771528998242531,\n",
      " 23: 0.9771528998242531,\n",
      " 24: 0.9771528998242531,\n",
      " 25: 0.9789103690685413,\n",
      " 26: 0.9806678383128296,\n",
      " 27: 0.9789103690685413,\n",
      " 28: 0.9771528998242531,\n",
      " 29: 0.9824253075571178,\n",
      " 30: 0.984182776801406}\n"
     ]
    }
   ],
   "source": [
    "best_feature_score = {}\n",
    "best_features = {}\n",
    "#reinitialise pipe just incase\n",
    "pipe = Pipeline([('scaler', StandardScaler()),\n",
    "                 ('knn', KNeighborsClassifier(n_neighbors=4, weights='uniform'))])\n",
    "\n",
    "for num_features in range(1,len(X.columns)+1):\n",
    "    feat_select = SelectKBest(score_func=f_classif, k=num_features)\n",
    "    #fit to data\n",
    "    feat_select.fit(X, y.values.ravel())\n",
    "    #best features are True values in array\n",
    "    feature_filter = feat_select.get_support()\n",
    "    X_new = X[X.columns[feature_filter]]\n",
    "    pipe.fit(X_new.values, y.values.ravel())\n",
    "    best_features[num_features] = X_new.columns\n",
    "    best_feature_score[num_features] = pipe.score(X_new.values, y.values.ravel())\n",
    "\n",
    "print(f\"Scores for best feature by number of features:\")\n",
    "pprint(best_feature_score)"
   ]
  },
  {
   "cell_type": "code",
   "execution_count": 142,
   "id": "fba1dabe-9dd9-45d9-9692-ea2dc93ebcb0",
   "metadata": {},
   "outputs": [
    {
     "name": "stdout",
     "output_type": "stream",
     "text": [
      "The optimal number of features to pick is 20\n",
      "These 20 featuers are:\n",
      "['mean radius',\n",
      " 'mean texture',\n",
      " 'mean perimeter',\n",
      " 'mean area',\n",
      " 'mean compactness',\n",
      " 'mean concavity',\n",
      " 'mean concave points',\n",
      " 'radius error',\n",
      " 'perimeter error',\n",
      " 'area error',\n",
      " 'concave points error',\n",
      " 'worst radius',\n",
      " 'worst texture',\n",
      " 'worst perimeter',\n",
      " 'worst area',\n",
      " 'worst smoothness',\n",
      " 'worst compactness',\n",
      " 'worst concavity',\n",
      " 'worst concave points',\n",
      " 'worst symmetry']\n"
     ]
    }
   ],
   "source": [
    "optimal_num_features = max(best_feature_score, key=best_feature_score.get)\n",
    "print(f\"The optimal number of features to pick is {optimal_num_features}\")\n",
    "print(f\"These {optimal_num_features} features are:\")\n",
    "pprint(best_features[optimal_num_features].tolist())"
   ]
  },
  {
   "cell_type": "markdown",
   "id": "4a5397f9-1bee-4c52-8c81-f10e9ea6b798",
   "metadata": {},
   "source": [
    "***\n",
    "## Assessing the Feature Selection\n",
    "By using SelectKBest it is possible to determine what the best features to use are, though strictly speaking these may not be the very best as there may be a more appropriate score function to use with SelectKBest, or external to SelectKBest there may be a better tool (like PCA, RFE, etc.) to decide on features.\n",
    "The best score we arrived at was in-fact thesame as with our maximum number of features, however by reducing down the number of features it means our model can run in less time and their is less chance of over fitting. Plus it allows us to better understand our data and what are the most significant features in in trying to accurately predict our target variable y.\n",
    "\n",
    "Interestingly all of our scores were above 90%, with it just being 1% difference from the best score with only 7 features, perhaps in practice this single percentage would be negligible and 7 features would be more desirable to work with, due maybe to constraints around gathering of the data."
   ]
  },
  {
   "cell_type": "code",
   "execution_count": 146,
   "id": "afd37311-8e58-4845-a80b-dc071a343c09",
   "metadata": {},
   "outputs": [
    {
     "name": "stdout",
     "output_type": "stream",
     "text": [
      "The best features identified when picking just 7 features are:\n",
      "['mean radius',\n",
      " 'mean perimeter',\n",
      " 'mean concave points',\n",
      " 'worst radius',\n",
      " 'worst perimeter',\n",
      " 'worst area',\n",
      " 'worst concave points']\n"
     ]
    }
   ],
   "source": [
    "print(f\"The best features identified when picking just 7 features are:\")\n",
    "pprint(best_features[7].tolist())"
   ]
  },
  {
   "cell_type": "markdown",
   "id": "25d4e4b2-68a4-426e-8437-a6790825c9a7",
   "metadata": {},
   "source": [
    "***"
   ]
  },
  {
   "cell_type": "code",
   "execution_count": 147,
   "id": "e6ba0918-eb9a-4bed-8d2b-11157f90cf45",
   "metadata": {},
   "outputs": [],
   "source": [
    "#TODO - one more algorithm from sklearn\n",
    "#TODO - tidy up intro to feature selection"
   ]
  },
  {
   "cell_type": "code",
   "execution_count": null,
   "id": "2bc44e1c-0a87-45d8-b313-9fa6d64ccdff",
   "metadata": {},
   "outputs": [],
   "source": []
  }
 ],
 "metadata": {
  "kernelspec": {
   "display_name": "M-L-and-S-Assessment-Kernel",
   "language": "python",
   "name": "m-l-and-s-assessment-kernel"
  },
  "language_info": {
   "codemirror_mode": {
    "name": "ipython",
    "version": 3
   },
   "file_extension": ".py",
   "mimetype": "text/x-python",
   "name": "python",
   "nbconvert_exporter": "python",
   "pygments_lexer": "ipython3",
   "version": "3.9.2"
  }
 },
 "nbformat": 4,
 "nbformat_minor": 5
}
