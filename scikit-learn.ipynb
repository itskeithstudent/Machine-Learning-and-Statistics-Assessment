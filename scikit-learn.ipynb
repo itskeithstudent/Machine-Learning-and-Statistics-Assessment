{
 "cells": [
  {
   "attachments": {
    "0bde7cf0-8eb6-4511-a756-db2b197a7290.png": {
     "image/png": "[encoded data removed]"
    }
   },
   "cell_type": "markdown",
   "metadata": {},
   "source": [
    "![scikit-learn-logo.png](attachment:0bde7cf0-8eb6-4511-a756-db2b197a7290.png)"
   ]
  },
  {
   "cell_type": "markdown",
   "metadata": {
    "tags": []
   },
   "source": [
    "# Scikit-Learn Overview\n",
    "***\n",
    "## What is Scikit-Learn?\n",
    "A Python library for machine learning, its name comes from how it was originally created as a SciPy tool kit (Scikit) for machine learning (Learn).\n",
    "\n",
    "The library contains many supervised and non-supervised algorithms as well as other functionality to allow you to more easily manipulate your data, like for example, ways to easily split up your datasets into testing, training and validation sets.\n",
    "But that is not to say that it acts as an alternative to numpy or pandas, but rather it provides functionality that works with these other packages.\n",
    "\n",
    "[Direct-link to scikit-learn website](https://scikit-learn.org/stable/index.html)\n",
    "***\n",
    "## How Does Scikit-Learn work?\n",
    "Across the models implemented in Scikit-Learn Estimators are the main API used, they are the objects that fit data to the model whether it be for supervised or non-supervised \n",
    "algorithms. \n",
    "\n",
    "To demonstrate the operation of sklearn I'll break this out across a few steps:\n",
    "1) Creating an estimator from a model e.g. LinearRegression().\n",
    "2) Create and shape some data to fit the estimator.\n",
    "3) Predict values not fitted to the estimator.\n",
    "4) Visualise the data used to fit and the estimator's predictions.\n",
    "\n",
    "In the next cell a simple example is shown where a estimator variable called 'lin_reg' is defined for performing some linear regression."
   ]
  },
  {
   "cell_type": "code",
   "execution_count": 1,
   "metadata": {},
   "outputs": [],
   "source": [
    "from sklearn.linear_model import LinearRegression\n",
    "lin_reg = LinearRegression()"
   ]
  },
  {
   "cell_type": "markdown",
   "metadata": {},
   "source": [
    "***\n",
    "### 'Shape' of the data\n",
    "With an estimator object initialised, it needs to be fitted to some data to be useful and be able to predict values.\n",
    "\n",
    "All data inputted to sklearn must be 2D in shape (though there is an exception to this when fitting, as you can have the response variable as 1D), this essentially means an array of array's where each in the index of the outer array essentially represents a row of data.\n",
    "\n",
    "``\n",
    "[[1,2,3]\n",
    ",[1,2,3]]\n",
    "``\n",
    "\n",
    "This is handled normally in pandas due to how it represents data natively in dataframes with rows and columns, however in the case of taking a list or numpy array it may be necessary to first reshape the data before using it to fit your model/estimator.\n",
    "\n",
    "In the next cell, a Python list is converted to an array and then reshaped so it is 2D."
   ]
  },
  {
   "cell_type": "code",
   "execution_count": 2,
   "metadata": {},
   "outputs": [
    {
     "name": "stdout",
     "output_type": "stream",
     "text": [
      "Input X shape:[[1]\n",
      " [2]\n",
      " [3]\n",
      " [4]]\n",
      "Input y shape:[1, 2, 3, 4]\n"
     ]
    }
   ],
   "source": [
    "import numpy as np\n",
    "\n",
    "X = [1,2,3,4]\n",
    "y = [1,2,3,4]\n",
    "\n",
    "X = np.array(X) #Change X to numpy array and reshape\n",
    "X = X.reshape(-1,1) #Reshape so it is in format [[1],[2],...]\n",
    "\n",
    "lin_reg.fit(X,y) #equivalent to >>>lin_reg.fit([[1],[2],[3],[4]],[1,2,3,4])\n",
    "\n",
    "test = str(X)\n",
    "\n",
    "print(f\"Input X shape:{X}\\nInput y shape:{y}\")"
   ]
  },
  {
   "cell_type": "markdown",
   "metadata": {},
   "source": [
    "***\n",
    "### Predicting values not used to fit\n",
    "With the estimator defined and fitted using X and y, we can now use it estimate future values, a very simple linear input was used so the predictions here will be pretty obvious.\n",
    "\n",
    "And we can see by getting the coefficient that it is a multiple of 1, so any value we want to predict will be scaled by 1.\n",
    "\n",
    "And any line will intercept the x and y-axis at 0."
   ]
  },
  {
   "cell_type": "code",
   "execution_count": 3,
   "metadata": {},
   "outputs": [
    {
     "name": "stdout",
     "output_type": "stream",
     "text": [
      "Predicted value for one we have already fitted with; 3 = [3.]\n",
      "Predicting with values not fitted with; 5 = [5.], 6 = [6.], 10 = [10.]\n",
      "\n",
      "Coefficient [1.]\n",
      "Intercept 0.0\n"
     ]
    }
   ],
   "source": [
    "print(f\"Predicted value for one we have already fitted with; 3 = {lin_reg.predict([[3]])}\")\n",
    "print(f\"Predicting with values not fitted with; 5 = {lin_reg.predict([[5]])}, 6 = {lin_reg.predict([[6]])}, 10 = {lin_reg.predict([[10]])}\")\n",
    "print(f\"\\nCoefficient {lin_reg.coef_}\\nIntercept {lin_reg.intercept_}\")"
   ]
  },
  {
   "cell_type": "markdown",
   "metadata": {},
   "source": [
    "***\n",
    "### Visualising the Estimator\n",
    "With the fitted data and the estimator to provide predictions, the data can be plotted simply using matplotlib.\n",
    "\n",
    "Taking the points the estimator was fitted with (X and y) a few initial points will be plotted, these are the known values and will be plotted using black dots.\n",
    "\n",
    "Then some values will be predicted with the estimator, these will be pretty simple but a few incrementally larger steps will be taken, these points will be plotted using red dots.\n",
    "\n",
    "Lastly using the estimator's coefficient and intercept (and using numpy's linspace function to generate some numbers), we will create some data to show the line that any points should follow, and will overlay the points using a blue line to show this."
   ]
  },
  {
   "cell_type": "code",
   "execution_count": 4,
   "metadata": {},
   "outputs": [
    {
     "data": {
      "image/png": "[encoded data removed]",
      "text/plain": [
       "<Figure size 720x360 with 1 Axes>"
      ]
     },
     "metadata": {
      "needs_background": "light"
     },
     "output_type": "display_data"
    }
   ],
   "source": [
    "import matplotlib.pyplot as plt\n",
    "\n",
    "plt.figure(figsize=(10,5)) #set figure size\n",
    "\n",
    "#title and label axis'\n",
    "plt.title('Very Simple Linear Regression Example')\n",
    "plt.xlabel('X') \n",
    "plt.ylabel('y')\n",
    "\n",
    "plt.plot(X,y,'ko') #plot points we know as black dots\n",
    "\n",
    "X2 = np.array([5,6,10,20]).reshape(-1,1) #Create a new X2 variable, this will represent values to predict\n",
    "y2 = lin_reg.predict(X2) #Create y2 to hold predicted values\n",
    "plt.plot(X2,y2,'ro') #plot new data with red dots\n",
    "\n",
    "X3 = np.linspace(lin_reg.intercept_,25,26) #Create new X3 variable, this will start with model/estimators intercept\n",
    "y3 = X3*lin_reg.coef_ + lin_reg.intercept_ #y3 is X3 times the coefficient(1.0) plus the intercept(0.0)\n",
    "plt.plot(X3,y3, 'b-') #plot the line to overlay the points\n",
    "\n",
    "plt.show()"
   ]
  },
  {
   "cell_type": "markdown",
   "metadata": {},
   "source": [
    "***\n",
    "## Evaluating Estimators\n",
    "\n",
    "There are quite a few options for evaluating how good your estimator/model is at predicting and a detailed documentation can be found [here in the sklearn documentation](https://scikit-learn.org/stable/modules/model_evaluation.html).\n",
    "\n",
    "Here a few examples will be stepped through which can be easily used in determining how good your model is.\n",
    "\n",
    "### Score\n",
    "\n",
    "The score function can be used to get the $ R^2 $ of your model which takes in a feature dataset (X or X_train as will be used in later examples) and it's asssociated target dataset (y or y_train as will be used in later examples).\n",
    "\n",
    "As you can see in below example we get a score of 1.0, in a real dataset this would likely be an indication of overfitting, and for demonstration purposes this doesn't really work well, so lets redo the fit for lin_reg and this time jitter the values about a little so it's not so exactly linear."
   ]
  },
  {
   "cell_type": "code",
   "execution_count": 5,
   "metadata": {},
   "outputs": [
    {
     "name": "stdout",
     "output_type": "stream",
     "text": [
      "Suspiciously good R-squared score: 1.0\n",
      "After adjusting values around score is: 0.7246841243136131\n"
     ]
    }
   ],
   "source": [
    "print(f\"Suspiciously good R-squared score: {lin_reg.score(X,y)}\")\n",
    "\n",
    "#refit model but make values a bit rougher\n",
    "X = [0.5,2,3,4]\n",
    "y = [1.1,0.2,4,7]\n",
    "\n",
    "X = np.array(X) #Change X to numpy array and reshape\n",
    "X = X.reshape(-1,1) #Reshape so it is in format [[1],[2],...]\n",
    "\n",
    "lin_reg.fit(X,y) #equivalent to >>>lin_reg.fit([[1],[2],[3],[4]],[1,2,3,4])\n",
    "\n",
    "print(f\"After adjusting values around score is: {lin_reg.score(X,y)}\")"
   ]
  },
  {
   "cell_type": "code",
   "execution_count": 6,
   "metadata": {},
   "outputs": [
    {
     "data": {
      "text/plain": [
       "[<matplotlib.lines.Line2D at 0x198a6a24550>]"
      ]
     },
     "execution_count": 6,
     "metadata": {},
     "output_type": "execute_result"
    },
    {
     "data": {
      "image/png": "[encoded data removed]",
      "text/plain": [
       "<Figure size 720x360 with 1 Axes>"
      ]
     },
     "metadata": {
      "needs_background": "light"
     },
     "output_type": "display_data"
    }
   ],
   "source": [
    "plt.figure(figsize=(10,5)) #set figure size\n",
    "plt.title('Less Linear Linear Regression Example')\n",
    "plt.xlabel('X') \n",
    "plt.ylabel('y')\n",
    "\n",
    "plt.plot(X,y,'ko') #plot points we know as black dots\n",
    "\n",
    "Xline = np.linspace(lin_reg.intercept_,7,9) #Create new X3 variable, this will start with model/estimators intercept\n",
    "yline = Xline*lin_reg.coef_ + lin_reg.intercept_ #y3 is X3 times the coefficient(1.0) plus the intercept(0.0)\n",
    "plt.plot(Xline,yline, 'b-') #plot the line to overlay the points"
   ]
  },
  {
   "cell_type": "markdown",
   "metadata": {},
   "source": [
    "After seeing the data both ways now it's pretty clear why the score is worse, as you can see in last plot, the blue line represents the equation of the line, so the score, the $ R^2 $ of 0.72 makes sense as the points are generally centered around the line but are not exactly on it.\n",
    "\n",
    "***\n",
    "## Mean Absolute Error (MAE)\n",
    "https://scikit-learn.org/stable/modules/generated/sklearn.metrics.mean_absolute_error.html\n",
    "\n",
    "Getting the mean absolute error is another way of evaluating your model, it tells you how far off your prediction is on average from the actual. Where the lower the MAE the better, as it means your predictions are closer to the actual.\n",
    "\n",
    "It's a fairly trivial calculation to perform, but sklearn has a package for it which is very convenient.\n",
    "\n",
    "Please note in the below example in a practical setting, you would likely also be performing this on a test set of data as outputed from train_test_split(), this will be covered later in the notebook in the Algorithm demonstrations, as there will be a proper dataset pulled in there."
   ]
  },
  {
   "cell_type": "code",
   "execution_count": 7,
   "metadata": {},
   "outputs": [
    {
     "name": "stdout",
     "output_type": "stream",
     "text": [
      "MAE is 1.194392523364486, which given the scale of our values is really not very good.\n"
     ]
    }
   ],
   "source": [
    "from sklearn.metrics import mean_absolute_error\n",
    "\n",
    "y_pred = lin_reg.predict(X)\n",
    "print(f\"MAE is {mean_absolute_error(y_pred,y)}, which given the scale of our values is really not very good.\")"
   ]
  },
  {
   "cell_type": "markdown",
   "metadata": {},
   "source": [
    "***\n",
    "## Cross Validation"
   ]
  },
  {
   "cell_type": "markdown",
   "metadata": {},
   "source": [
    "# Algorithm Demonstration"
   ]
  },
  {
   "cell_type": "markdown",
   "metadata": {},
   "source": [
    "***\n",
    "## Lasso Model\n",
    "\n",
    "In this section Lasso algorithm will be explored, but first a dataset needs to be chosen, explored a bit to familiarise with the contents.\n",
    "\n",
    "### Selecting a dataset\n",
    "\n",
    "For this the California Housing Dataset from Scikit Learn will be used. It is an inbuilt dataset to the sklearn package, which means csv files for holding the data won't be necessary."
   ]
  },
  {
   "cell_type": "code",
   "execution_count": 10,
   "metadata": {},
   "outputs": [],
   "source": [
    "from sklearn.datasets import fetch_california_housing\n",
    "import matplotlib.pyplot as plt\n",
    "from pprint import pprint\n",
    "import pandas as pd \n",
    "\n",
    "#get the dataset object, set as_frame=True to get pandas dataframe returned too\n",
    "cali_house_data = fetch_california_housing(as_frame=True)"
   ]
  },
  {
   "cell_type": "code",
   "execution_count": 11,
   "metadata": {},
   "outputs": [
    {
     "name": "stdout",
     "output_type": "stream",
     "text": [
      "{'DESCR': '.. _california_housing_dataset:\\n'\n",
      "          '\\n'\n",
      "          'California Housing dataset\\n'\n",
      "          '--------------------------\\n'\n",
      "          '\\n'\n",
      "          '**Data Set Characteristics:**\\n'\n",
      "          '\\n'\n",
      "          '    :Number of Instances: 20640\\n'\n",
      "          '\\n'\n",
      "          '    :Number of Attributes: 8 numeric, predictive attributes and the '\n",
      "          'target\\n'\n",
      "          '\\n'\n",
      "          '    :Attribute Information:\\n'\n",
      "          '        - MedInc        median income in block group\\n'\n",
      "          '        - HouseAge      median house age in block group\\n'\n",
      "          '        - AveRooms      average number of rooms per household\\n'\n",
      "          '        - AveBedrms     average number of bedrooms per household\\n'\n",
      "          '        - Population    block group population\\n'\n",
      "          '        - AveOccup      average number of household members\\n'\n",
      "          '        - Latitude      block group latitude\\n'\n",
      "          '        - Longitude     block group longitude\\n'\n",
      "          '\\n'\n",
      "          '    :Missing Attribute Values: None\\n'\n",
      "          '\\n'\n",
      "          'This dataset was obtained from the StatLib repository.\\n'\n",
      "          'https://www.dcc.fc.up.pt/~ltorgo/Regression/cal_housing.html\\n'\n",
      "          '\\n'\n",
      "          'The target variable is the median house value for California '\n",
      "          'districts,\\n'\n",
      "          'expressed in hundreds of thousands of dollars ($100,000).\\n'\n",
      "          '\\n'\n",
      "          'This dataset was derived from the 1990 U.S. census, using one row '\n",
      "          'per census\\n'\n",
      "          'block group. A block group is the smallest geographical unit for '\n",
      "          'which the U.S.\\n'\n",
      "          'Census Bureau publishes sample data (a block group typically has a '\n",
      "          'population\\n'\n",
      "          'of 600 to 3,000 people).\\n'\n",
      "          '\\n'\n",
      "          'An household is a group of people residing within a home. Since the '\n",
      "          'average\\n'\n",
      "          'number of rooms and bedrooms in this dataset are provided per '\n",
      "          'household, these\\n'\n",
      "          'columns may take surpinsingly large values for block groups with '\n",
      "          'few households\\n'\n",
      "          'and many empty houses, such as vacation resorts.\\n'\n",
      "          '\\n'\n",
      "          'It can be downloaded/loaded using the\\n'\n",
      "          ':func:`sklearn.datasets.fetch_california_housing` function.\\n'\n",
      "          '\\n'\n",
      "          '.. topic:: References\\n'\n",
      "          '\\n'\n",
      "          '    - Pace, R. Kelley and Ronald Barry, Sparse Spatial '\n",
      "          'Autoregressions,\\n'\n",
      "          '      Statistics and Probability Letters, 33 (1997) 291-297\\n',\n",
      " 'data':        MedInc  HouseAge  AveRooms  AveBedrms  Population  AveOccup  Latitude  \\\n",
      "0      8.3252      41.0  6.984127   1.023810       322.0  2.555556     37.88   \n",
      "1      8.3014      21.0  6.238137   0.971880      2401.0  2.109842     37.86   \n",
      "2      7.2574      52.0  8.288136   1.073446       496.0  2.802260     37.85   \n",
      "3      5.6431      52.0  5.817352   1.073059       558.0  2.547945     37.85   \n",
      "4      3.8462      52.0  6.281853   1.081081       565.0  2.181467     37.85   \n",
      "...       ...       ...       ...        ...         ...       ...       ...   \n",
      "20635  1.5603      25.0  5.045455   1.133333       845.0  2.560606     39.48   \n",
      "20636  2.5568      18.0  6.114035   1.315789       356.0  3.122807     39.49   \n",
      "20637  1.7000      17.0  5.205543   1.120092      1007.0  2.325635     39.43   \n",
      "20638  1.8672      18.0  5.329513   1.171920       741.0  2.123209     39.43   \n",
      "20639  2.3886      16.0  5.254717   1.162264      1387.0  2.616981     39.37   \n",
      "\n",
      "       Longitude  \n",
      "0        -122.23  \n",
      "1        -122.22  \n",
      "2        -122.24  \n",
      "3        -122.25  \n",
      "4        -122.25  \n",
      "...          ...  \n",
      "20635    -121.09  \n",
      "20636    -121.21  \n",
      "20637    -121.22  \n",
      "20638    -121.32  \n",
      "20639    -121.24  \n",
      "\n",
      "[20640 rows x 8 columns],\n",
      " 'feature_names': ['MedInc',\n",
      "                   'HouseAge',\n",
      "                   'AveRooms',\n",
      "                   'AveBedrms',\n",
      "                   'Population',\n",
      "                   'AveOccup',\n",
      "                   'Latitude',\n",
      "                   'Longitude'],\n",
      " 'frame':        MedInc  HouseAge  AveRooms  AveBedrms  Population  AveOccup  Latitude  \\\n",
      "0      8.3252      41.0  6.984127   1.023810       322.0  2.555556     37.88   \n",
      "1      8.3014      21.0  6.238137   0.971880      2401.0  2.109842     37.86   \n",
      "2      7.2574      52.0  8.288136   1.073446       496.0  2.802260     37.85   \n",
      "3      5.6431      52.0  5.817352   1.073059       558.0  2.547945     37.85   \n",
      "4      3.8462      52.0  6.281853   1.081081       565.0  2.181467     37.85   \n",
      "...       ...       ...       ...        ...         ...       ...       ...   \n",
      "20635  1.5603      25.0  5.045455   1.133333       845.0  2.560606     39.48   \n",
      "20636  2.5568      18.0  6.114035   1.315789       356.0  3.122807     39.49   \n",
      "20637  1.7000      17.0  5.205543   1.120092      1007.0  2.325635     39.43   \n",
      "20638  1.8672      18.0  5.329513   1.171920       741.0  2.123209     39.43   \n",
      "20639  2.3886      16.0  5.254717   1.162264      1387.0  2.616981     39.37   \n",
      "\n",
      "       Longitude  MedHouseVal  \n",
      "0        -122.23        4.526  \n",
      "1        -122.22        3.585  \n",
      "2        -122.24        3.521  \n",
      "3        -122.25        3.413  \n",
      "4        -122.25        3.422  \n",
      "...          ...          ...  \n",
      "20635    -121.09        0.781  \n",
      "20636    -121.21        0.771  \n",
      "20637    -121.22        0.923  \n",
      "20638    -121.32        0.847  \n",
      "20639    -121.24        0.894  \n",
      "\n",
      "[20640 rows x 9 columns],\n",
      " 'target': 0        4.526\n",
      "1        3.585\n",
      "2        3.521\n",
      "3        3.413\n",
      "4        3.422\n",
      "         ...  \n",
      "20635    0.781\n",
      "20636    0.771\n",
      "20637    0.923\n",
      "20638    0.847\n",
      "20639    0.894\n",
      "Name: MedHouseVal, Length: 20640, dtype: float64,\n",
      " 'target_names': ['MedHouseVal']}\n",
      "dict_keys(['data', 'target', 'frame', 'target_names', 'feature_names', 'DESCR'])\n"
     ]
    }
   ],
   "source": [
    "pprint(cali_house_data)\n",
    "print(cali_house_data.keys())"
   ]
  },
  {
   "cell_type": "markdown",
   "metadata": {},
   "source": [
    "***\n",
    "\n",
    "### Exploring the dataset\n",
    "First print the dataset object itself to understand how it's structured, to do so pprint is used to better format the output, this gives us a pretty good idea of how the data is structured within but to make sure the object keys themselves are printed.\n",
    "\n",
    "What the dataset also conveniently tells us (which won't be the case a lot of the time) is what our features are and what the target is.\n",
    "\n",
    "By printing out the keys to the dataset how it can be used starts to become clear, where each key represents a list of values (with the exception of 'DESCR' which has a textual description of the dataset), in the next cell these will start to be stitched together to give a pandas dataframe to explore the dataset further and see if there are any potential issues like NULL values to account for. \n",
    "***"
   ]
  },
  {
   "cell_type": "code",
   "execution_count": 12,
   "metadata": {
    "tags": []
   },
   "outputs": [
    {
     "data": {
      "text/html": [
       "<div>\n",
       "<style scoped>\n",
       "    .dataframe tbody tr th:only-of-type {\n",
       "        vertical-align: middle;\n",
       "    }\n",
       "\n",
       "    .dataframe tbody tr th {\n",
       "        vertical-align: top;\n",
       "    }\n",
       "\n",
       "    .dataframe thead th {\n",
       "        text-align: right;\n",
       "    }\n",
       "</style>\n",
       "<table border=\"1\" class=\"dataframe\">\n",
       "  <thead>\n",
       "    <tr style=\"text-align: right;\">\n",
       "      <th></th>\n",
       "      <th>MedInc</th>\n",
       "      <th>HouseAge</th>\n",
       "      <th>AveRooms</th>\n",
       "      <th>AveBedrms</th>\n",
       "      <th>Population</th>\n",
       "      <th>AveOccup</th>\n",
       "      <th>Latitude</th>\n",
       "      <th>Longitude</th>\n",
       "      <th>MedHouseVal</th>\n",
       "    </tr>\n",
       "  </thead>\n",
       "  <tbody>\n",
       "    <tr>\n",
       "      <th>0</th>\n",
       "      <td>8.3252</td>\n",
       "      <td>41.0</td>\n",
       "      <td>6.984127</td>\n",
       "      <td>1.023810</td>\n",
       "      <td>322.0</td>\n",
       "      <td>2.555556</td>\n",
       "      <td>37.88</td>\n",
       "      <td>-122.23</td>\n",
       "      <td>4.526</td>\n",
       "    </tr>\n",
       "    <tr>\n",
       "      <th>1</th>\n",
       "      <td>8.3014</td>\n",
       "      <td>21.0</td>\n",
       "      <td>6.238137</td>\n",
       "      <td>0.971880</td>\n",
       "      <td>2401.0</td>\n",
       "      <td>2.109842</td>\n",
       "      <td>37.86</td>\n",
       "      <td>-122.22</td>\n",
       "      <td>3.585</td>\n",
       "    </tr>\n",
       "    <tr>\n",
       "      <th>2</th>\n",
       "      <td>7.2574</td>\n",
       "      <td>52.0</td>\n",
       "      <td>8.288136</td>\n",
       "      <td>1.073446</td>\n",
       "      <td>496.0</td>\n",
       "      <td>2.802260</td>\n",
       "      <td>37.85</td>\n",
       "      <td>-122.24</td>\n",
       "      <td>3.521</td>\n",
       "    </tr>\n",
       "    <tr>\n",
       "      <th>3</th>\n",
       "      <td>5.6431</td>\n",
       "      <td>52.0</td>\n",
       "      <td>5.817352</td>\n",
       "      <td>1.073059</td>\n",
       "      <td>558.0</td>\n",
       "      <td>2.547945</td>\n",
       "      <td>37.85</td>\n",
       "      <td>-122.25</td>\n",
       "      <td>3.413</td>\n",
       "    </tr>\n",
       "    <tr>\n",
       "      <th>4</th>\n",
       "      <td>3.8462</td>\n",
       "      <td>52.0</td>\n",
       "      <td>6.281853</td>\n",
       "      <td>1.081081</td>\n",
       "      <td>565.0</td>\n",
       "      <td>2.181467</td>\n",
       "      <td>37.85</td>\n",
       "      <td>-122.25</td>\n",
       "      <td>3.422</td>\n",
       "    </tr>\n",
       "  </tbody>\n",
       "</table>\n",
       "</div>"
      ],
      "text/plain": [
       "   MedInc  HouseAge  AveRooms  AveBedrms  Population  AveOccup  Latitude  \\\n",
       "0  8.3252      41.0  6.984127   1.023810       322.0  2.555556     37.88   \n",
       "1  8.3014      21.0  6.238137   0.971880      2401.0  2.109842     37.86   \n",
       "2  7.2574      52.0  8.288136   1.073446       496.0  2.802260     37.85   \n",
       "3  5.6431      52.0  5.817352   1.073059       558.0  2.547945     37.85   \n",
       "4  3.8462      52.0  6.281853   1.081081       565.0  2.181467     37.85   \n",
       "\n",
       "   Longitude  MedHouseVal  \n",
       "0    -122.23        4.526  \n",
       "1    -122.22        3.585  \n",
       "2    -122.24        3.521  \n",
       "3    -122.25        3.413  \n",
       "4    -122.25        3.422  "
      ]
     },
     "execution_count": 12,
     "metadata": {},
     "output_type": "execute_result"
    }
   ],
   "source": [
    "cali_house_df = cali_house_data['frame']\n",
    "cali_house_df.head()"
   ]
  },
  {
   "cell_type": "code",
   "execution_count": 13,
   "metadata": {},
   "outputs": [
    {
     "name": "stdout",
     "output_type": "stream",
     "text": [
      "<class 'pandas.core.frame.DataFrame'>\n",
      "RangeIndex: 20640 entries, 0 to 20639\n",
      "Data columns (total 9 columns):\n",
      " #   Column       Non-Null Count  Dtype  \n",
      "---  ------       --------------  -----  \n",
      " 0   MedInc       20640 non-null  float64\n",
      " 1   HouseAge     20640 non-null  float64\n",
      " 2   AveRooms     20640 non-null  float64\n",
      " 3   AveBedrms    20640 non-null  float64\n",
      " 4   Population   20640 non-null  float64\n",
      " 5   AveOccup     20640 non-null  float64\n",
      " 6   Latitude     20640 non-null  float64\n",
      " 7   Longitude    20640 non-null  float64\n",
      " 8   MedHouseVal  20640 non-null  float64\n",
      "dtypes: float64(9)\n",
      "memory usage: 1.4 MB\n"
     ]
    }
   ],
   "source": [
    "#show info on the dataframe, this will determine whether we have null values and column datatypes\n",
    "cali_house_df.info()"
   ]
  },
  {
   "cell_type": "markdown",
   "metadata": {},
   "source": [
    "***\n",
    "Looking at the table head and it's info tells us that we have no null values - this is useful to know as it means imputing values is not necessary.\n",
    "That all columns in the dataframe are a numeric (float) type.\n",
    "It also shows there is 20640 rows total, so not an insubstantial dataset, especially when compared against the Iris dataset - this may have a consequence where any scatterplots might become very difficult to distinguish due to the number of points\n",
    "\n",
    "***\n",
    "\n",
    "Next to get an idea of what data is in the dataframe some simple hist plots are done, this can conveniently be done directly against the pandas dataframe."
   ]
  },
  {
   "cell_type": "code",
   "execution_count": 14,
   "metadata": {},
   "outputs": [
    {
     "name": "stdout",
     "output_type": "stream",
     "text": [
      "Dataset target (what we want to predict)- ['MedHouseVal']\n",
      "Dataset features (what we can use to predict the target) - ['MedInc', 'HouseAge', 'AveRooms', 'AveBedrms', 'Population', 'AveOccup', 'Latitude', 'Longitude']\n"
     ]
    },
    {
     "data": {
      "image/png": "[encoded data removed]",
      "text/plain": [
       "<Figure size 1440x1080 with 9 Axes>"
      ]
     },
     "metadata": {
      "needs_background": "light"
     },
     "output_type": "display_data"
    }
   ],
   "source": [
    "#plot values in the dataframe with histogram\n",
    "cali_house_df.hist(figsize=(20,15))\n",
    "\n",
    "print(f\"Dataset target (what we want to predict)- {cali_house_data.target_names}\")\n",
    "print(f\"Dataset features (what we can use to predict the target) - {cali_house_data.feature_names}\")\n",
    "plt.show()"
   ]
  },
  {
   "cell_type": "markdown",
   "metadata": {},
   "source": [
    "***\n",
    "By showing the target and features from the dataset alongside the histograms can now begin to see some relationships and potentially what might have the strongest influence on the target MedHouseVal.\n",
    "Looking at the above histograms doesn't tell a whole lot, and certainly doesn't describe any of how strongly any of the features may influence the target, however it does give an idea of the distributions of values, namely MedHouseVal tends to have most houses in the region of 150,000, with decreasing either side of that (with the exception of a spike in the region approaching 500,000 (maybe they went to a few rich neighbourhoods when gathering this data)\n",
    "\n",
    "***\n",
    "### Splitting our dataset to fit the model\n",
    "Next the dataset is going to be split into testing and training datasets"
   ]
  },
  {
   "cell_type": "code",
   "execution_count": 124,
   "metadata": {},
   "outputs": [],
   "source": [
    "from sklearn.model_selection import train_test_split\n",
    "from sklearn import preprocessing\n",
    "\n",
    "X = cali_house_df.drop('MedHouseVal',axis=1)\n",
    "#X = X[['MedInc', 'AveBedrms']]\n",
    "X = X.drop('Population',axis=1)\n",
    "#X = X.drop('AveOccup',axis=1)\n",
    "#X = X.drop('Longitude',axis=1)\n",
    "#X = X.drop('Latitude',axis=1)\n",
    "scaler = preprocessing.StandardScaler().fit(X)\n",
    "X_scaled = scaler.transform(X)\n",
    "#X = cali_house_df[['MedInc','AveBedrms', 'Longitude', 'Latitude']]\n",
    "y = cali_house_df[['MedHouseVal']]\n",
    "X_train, X_test, y_train, y_test = train_test_split(X_scaled, y, random_state=11)#set a radom state for consistency when testing"
   ]
  },
  {
   "cell_type": "code",
   "execution_count": 125,
   "metadata": {},
   "outputs": [
    {
     "name": "stdout",
     "output_type": "stream",
     "text": [
      "Model Score: -0.0008846708572047834\n",
      "\n",
      "Note: For the MAE, a value of 1 represents 100,000 dollars, so while the MAE may not look too bad it is off by over 70,000 dollars\n",
      "Model MAE: 0.9119341537918395\n"
     ]
    }
   ],
   "source": [
    "from sklearn import linear_model\n",
    "\n",
    "#initialise model\n",
    "lasso_reg = linear_model.Lasso(alpha=1)\n",
    "#fit with training data\n",
    "lasso_reg.fit(X_train,y_train)\n",
    "#get R^2 score \n",
    "print(f\"Model Score: {lasso_reg.score(X_test,y_test)}\")\n",
    "y_pred = lasso_reg.predict(X_test)\n",
    "print(\"\\nNote: For the MAE, a value of 1 represents 100,000 dollars, so while the MAE may not look too bad it is off by over 70,000 dollars\")\n",
    "print(f\"Model MAE: {mean_absolute_error(y_pred,y_test)}\")"
   ]
  },
  {
   "cell_type": "markdown",
   "metadata": {},
   "source": [
    "***\n",
    "### Interpreting basic model evaluation\n",
    "Using Lasso model with this dataset, we get a very poor result, so we will next explore how we could improve this by tuning it's hyperparemeters.\n",
    "\n",
    "For Lasso it's alpha argument is by default set equal to 1, by setting it to 0 it acts in an equivalent manner to Linear Regression, so that's what will be tried next to see how the two compare and before doing further tuning to determine what is the best value to set for alpha."
   ]
  },
  {
   "cell_type": "code",
   "execution_count": 121,
   "metadata": {},
   "outputs": [
    {
     "name": "stderr",
     "output_type": "stream",
     "text": [
      "C:\\Users\\itske\\AppData\\Local\\Temp/ipykernel_17172/3165188283.py:4: UserWarning: With alpha=0, this algorithm does not converge well. You are advised to use the LinearRegression estimator\n",
      "  lasso_reg.fit(X_train,y_train)\n",
      "c:\\users\\itske\\desktop\\education\\gmit modules\\machine learning and statistics 52954\\machine-learning-and-statistics-assessment\\env\\lib\\site-packages\\sklearn\\linear_model\\_coordinate_descent.py:645: UserWarning: Coordinate descent with no regularization may lead to unexpected results and is discouraged.\n",
      "  model = cd_fast.enet_coordinate_descent(\n"
     ]
    },
    {
     "name": "stdout",
     "output_type": "stream",
     "text": [
      "Model Score: 0.6009453451755982\n",
      "Model MAE: 0.5378413155765961\n"
     ]
    },
    {
     "name": "stderr",
     "output_type": "stream",
     "text": [
      "c:\\users\\itske\\desktop\\education\\gmit modules\\machine learning and statistics 52954\\machine-learning-and-statistics-assessment\\env\\lib\\site-packages\\sklearn\\linear_model\\_coordinate_descent.py:645: ConvergenceWarning: Objective did not converge. You might want to increase the number of iterations, check the scale of the features or consider increasing regularisation. Duality gap: 4.034e+03, tolerance: 2.056e+00 Linear regression models with null weight for the l1 regularization term are more efficiently fitted using one of the solvers implemented in sklearn.linear_model.Ridge/RidgeCV instead.\n",
      "  model = cd_fast.enet_coordinate_descent(\n"
     ]
    }
   ],
   "source": [
    "#with alpha set to 0 should behave same as linear regression model\n",
    "lasso_reg = linear_model.Lasso(alpha=0) \n",
    "#fit model\n",
    "lasso_reg.fit(X_train,y_train)\n",
    "#get score\n",
    "lasso_reg.score(X_test,y_test)\n",
    "print(f\"Model Score: {lasso_reg.score(X_test,y_test)}\")\n",
    "y_pred = lasso_reg.predict(X_test)\n",
    "\n",
    "print(f\"Model MAE: {mean_absolute_error(y_pred,y_test)}\")"
   ]
  },
  {
   "cell_type": "markdown",
   "metadata": {},
   "source": [
    "***\n",
    "Now that we've gotten a few warnings against what we've just done, as it reccomends to instead of setting alpha to 0 you are likely better of to either use LinearRegression or Ridge models instead.\n",
    "\n",
    "But we do indeed see a much better score and Mean Absolute Error.\n",
    "\n",
    "***\n",
    "TODO:\n",
    "* Add subsection tuning hyperparameters\n",
    "* Add subsection showing cross validation \n",
    "* Maybe add section on feature selection using coefficient?\n",
    "* Show LassoCV which can essentially do the above but with fewer lines"
   ]
  },
  {
   "cell_type": "code",
   "execution_count": null,
   "metadata": {},
   "outputs": [],
   "source": [
    "lasso"
   ]
  },
  {
   "cell_type": "code",
   "execution_count": null,
   "metadata": {},
   "outputs": [],
   "source": []
  },
  {
   "cell_type": "code",
   "execution_count": null,
   "metadata": {},
   "outputs": [],
   "source": []
  },
  {
   "cell_type": "code",
   "execution_count": null,
   "metadata": {},
   "outputs": [],
   "source": []
  },
  {
   "cell_type": "code",
   "execution_count": 108,
   "metadata": {},
   "outputs": [
    {
     "name": "stdout",
     "output_type": "stream",
     "text": [
      "Feature: 0, Score: 0.77936\n",
      "Feature: 1, Score: 0.12271\n",
      "Feature: 2, Score: 0.12973\n",
      "Feature: 3, Score: 0.15701\n",
      "Feature: 4, Score: 0.02737\n",
      "Feature: 5, Score: 0.79115\n",
      "Feature: 6, Score: 0.75747\n"
     ]
    }
   ],
   "source": [
    "importance = abs(lasso_reg.coef_)\n",
    "# summarize feature importance\n",
    "for i,v in enumerate(importance):\n",
    "    print('Feature: %0d, Score: %.5f' % (i,v))"
   ]
  },
  {
   "cell_type": "code",
   "execution_count": 80,
   "metadata": {},
   "outputs": [
    {
     "data": {
      "text/plain": [
       "Index(['MedInc', 'HouseAge', 'AveRooms', 'AveBedrms', 'Population', 'AveOccup',\n",
       "       'Latitude', 'Longitude'],\n",
       "      dtype='object')"
      ]
     },
     "execution_count": 80,
     "metadata": {},
     "output_type": "execute_result"
    }
   ],
   "source": [
    "X.columns"
   ]
  },
  {
   "cell_type": "code",
   "execution_count": null,
   "metadata": {},
   "outputs": [],
   "source": []
  }
 ],
 "metadata": {
  "kernelspec": {
   "display_name": "M-L-and-S-Assessment-Kernel",
   "language": "python",
   "name": "m-l-and-s-assessment-kernel"
  },
  "language_info": {
   "codemirror_mode": {
    "name": "ipython",
    "version": 3
   },
   "file_extension": ".py",
   "mimetype": "text/x-python",
   "name": "python",
   "nbconvert_exporter": "python",
   "pygments_lexer": "ipython3",
   "version": "3.9.2"
  }
 },
 "nbformat": 4,
 "nbformat_minor": 5
}
