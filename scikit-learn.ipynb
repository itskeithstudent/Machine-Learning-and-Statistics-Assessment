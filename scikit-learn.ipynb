{
 "cells": [
  {
   "attachments": {
    "0bde7cf0-8eb6-4511-a756-db2b197a7290.png": {
     "image/png": "[encoded data removed]"
    }
   },
   "cell_type": "markdown",
   "id": "d7ac78d4-e100-4d52-b85b-2cb687c4cdd8",
   "metadata": {},
   "source": [
    "![scikit-learn-logo.png](attachment:0bde7cf0-8eb6-4511-a756-db2b197a7290.png)"
   ]
  },
  {
   "cell_type": "markdown",
   "id": "521daca1-e05c-466c-88ac-f353098d8d49",
   "metadata": {
    "tags": []
   },
   "source": [
    "# Scikit-Learn Overview\n",
    "***\n",
    "## What is Scikit-Learn?\n",
    "A Python library for machine learning, its name comes from how it was originally created as a SciPy tool kit (Scikit) for machine learning (Learn).\n",
    "\n",
    "The library contains many supervised and non-supervised algorithms as well as other functionality to allow you to more easily manipulate your data, like for example, ways to easily split up your datasets into testing, training and validation sets.\n",
    "But that is not to say that it acts as an alternative to numpy or pandas, but rather it provides functionality that works with these other packages.\n",
    "\n",
    "[Direct-link to scikit-learn website](https://scikit-learn.org/stable/index.html)\n",
    "***\n",
    "## How Does Scikit-Learn work?\n",
    "Across the models implemented in Scikit-Learn Estimators are the main API used, they are the objects that fit data to the model whether it be for supervised or non-supervised \n",
    "algorithms. \n",
    "\n",
    "To demonstrate the operation of sklearn I'll break this out across a few steps:\n",
    "1) Creating an estimator from a model e.g. LinearRegression().\n",
    "2) Create and shape some data to fit the estimator.\n",
    "3) Predict values not fitted to the estimator.\n",
    "4) Visualise the data used to fit and the estimator's predictions.\n",
    "\n",
    "In the next cell a simple example is shown where a estimator variable called 'lin_reg' is defined for performing some linear regression."
   ]
  },
  {
   "cell_type": "code",
   "execution_count": 68,
   "id": "24d5b92d-3cdf-4842-b4eb-eb4150dc4a5e",
   "metadata": {},
   "outputs": [],
   "source": [
    "from sklearn.linear_model import LinearRegression\n",
    "lin_reg = LinearRegression()"
   ]
  },
  {
   "cell_type": "markdown",
   "id": "ab04f5d9-d87e-4ed9-9d88-5b54bfa3c66d",
   "metadata": {},
   "source": [
    "***\n",
    "### 'Shape' of the data\n",
    "Now that there is a simple estimator declared, it needs to be fitted to some data to be useful and be able to predict values.\n",
    "\n",
    "All data inputted to sklearn must be 2D in shape (though there is an exception to this, when fitting as you can have the response variable as 1D), this essentially means an array of array's where each in the index of the outer array essentially represents a row of data.\n",
    "\n",
    "``\n",
    "[[1,2,3]\n",
    ",[1,2,3]]\n",
    "``\n",
    "\n",
    "This is handled normally in pandas due to how it represents data natively in dataframes with rows and columns, however in the case of taking a list or numpy array it may be necessary to first reshape the data before using it to fit your model/estimator.\n",
    "\n",
    "In the next cell, a Python list is converted to an array and then reshaped so it is 2D."
   ]
  },
  {
   "cell_type": "code",
   "execution_count": 103,
   "id": "14a602c5-9085-4f31-acfc-6056e3f05fb7",
   "metadata": {},
   "outputs": [
    {
     "name": "stdout",
     "output_type": "stream",
     "text": [
      "Input X shape:[[1]\n",
      " [2]\n",
      " [3]\n",
      " [4]]\n",
      "Input y shape:[1, 2, 3, 4]\n"
     ]
    }
   ],
   "source": [
    "import numpy as np\n",
    "\n",
    "X = [1,2,3,4]\n",
    "y = [1,2,3,4]\n",
    "\n",
    "X = np.array(X) #Change X to numpy array and reshape\n",
    "X = X.reshape(-1,1) #Reshape so it is in format [[1],[2],...]\n",
    "\n",
    "lin_reg.fit(X,y) #equivalent to >>>lin_reg.fit([[1],[2],[3],[4]],[1,2,3,4])\n",
    "\n",
    "test = str(X)\n",
    "\n",
    "print(f\"Input X shape:{X}\\nInput y shape:{y}\")"
   ]
  },
  {
   "cell_type": "markdown",
   "id": "5a5a14c4-a9a2-4d52-8581-8bf45f0a14b0",
   "metadata": {},
   "source": [
    "***\n",
    "### Predicting values not used to fit\n",
    "With the estimator defined and fitted using X and y, we can now use it estimate future values, a very simple linear input was used so the predictions here will be pretty obvious.\n",
    "\n",
    "And we can see by getting the coefficient that it is a multiple of 1, so any value we want to predict will be scaled by 1.\n",
    "\n",
    "And any line will intercept the x and y-axis at 0."
   ]
  },
  {
   "cell_type": "code",
   "execution_count": 105,
   "id": "9e5a82e6-9d14-4d23-b568-b445ac89fa3a",
   "metadata": {},
   "outputs": [
    {
     "name": "stdout",
     "output_type": "stream",
     "text": [
      "Predicted value for one we have already fitted with; 3 = [3.]\n",
      "Predicting with values not fitted with; 5 = [5.], 6 = [6.], 10 = [10.]\n",
      "\n",
      "Coefficient [1.]\n",
      "Intercept 0.0\n"
     ]
    }
   ],
   "source": [
    "print(f\"Predicted value for one we have already fitted with; 3 = {lin_reg.predict([[3]])}\")\n",
    "print(f\"Predicting with values not fitted with; 5 = {lin_reg.predict([[5]])}, 6 = {lin_reg.predict([[6]])}, 10 = {lin_reg.predict([[10]])}\")\n",
    "print(f\"\\nCoefficient {lin_reg.coef_}\\nIntercept {lin_reg.intercept_}\")"
   ]
  },
  {
   "cell_type": "markdown",
   "id": "68391839-aa63-4507-b5f6-52001b51e723",
   "metadata": {},
   "source": [
    "***\n",
    "### Visualising the Estimator\n",
    "With the fitted data and the estimator to provide predictions, the data can be plotted simply using matplotlib.\n",
    "\n",
    "Taking the points the estimator was fitted with (X and y) a few initial points will be plotted, these are the known values and will be plotted using black dots.\n",
    "\n",
    "Then some values will be predicted with the estimator, these will be pretty simple but a few incrementally larger steps will be taken, these points will be plotted using red dots.\n",
    "\n",
    "Lastly using the estimator's coefficient and intercept (and using numpy's linspace function to generate some numbers), we will create some data to show the line that any points should follow, and will overlay the points using a blue line to show this."
   ]
  },
  {
   "cell_type": "code",
   "execution_count": 114,
   "id": "42170208-8389-481b-878b-97e537d0d1bd",
   "metadata": {},
   "outputs": [
    {
     "data": {
      "image/png": "[encoded data removed]",
      "text/plain": [
       "<Figure size 720x360 with 1 Axes>"
      ]
     },
     "metadata": {
      "needs_background": "light"
     },
     "output_type": "display_data"
    }
   ],
   "source": [
    "import matplotlib.pyplot as plt\n",
    "\n",
    "plt.figure(figsize=(10,5)) #set figure size\n",
    "\n",
    "#title and label axis'\n",
    "plt.title('Very Simple Linear Regression Example')\n",
    "plt.xlabel('X') \n",
    "plt.ylabel('y')\n",
    "\n",
    "plt.plot(X,y,'ko') #plot points we know as black dots\n",
    "\n",
    "X2 = np.array([5,6,10,20]).reshape(-1,1) #Create a new X2 variable, this will represent values to predict\n",
    "y2 = lin_reg.predict(X2) #Create y2 to hold predicted values\n",
    "plt.plot(X2,y2,'ro') #plot new data with red dots\n",
    "\n",
    "X3 = np.linspace(lin_reg.intercept_,25,26) #Create new X3 variable, this will start with model/estimators intercept\n",
    "y3 = X3*lin_reg.coef_ + lin_reg.intercept_ #y3 is X3 times the coefficient(1.0) plus the intercept(0.0)\n",
    "plt.plot(X3,y3, 'b-') #plot the line to overlay the points\n",
    "\n",
    "plt.show()"
   ]
  },
  {
   "cell_type": "markdown",
   "id": "10fecbd7-3e16-44f1-9baf-aef514065809",
   "metadata": {},
   "source": [
    "# Algorithm Demonstration"
   ]
  },
  {
   "cell_type": "code",
   "execution_count": 36,
   "id": "be80164f-66a4-4ad1-9d68-1f5bc6e4d167",
   "metadata": {},
   "outputs": [],
   "source": [
    "#Consider looking into Laso and Ridge regression as examples"
   ]
  },
  {
   "cell_type": "code",
   "execution_count": 47,
   "id": "21a48004-089a-4009-8856-64fe27557691",
   "metadata": {},
   "outputs": [
    {
     "data": {
      "text/plain": [
       "array([ 0.,  1.,  2.,  3.,  4.,  5.,  6.,  7.,  8.,  9., 10., 11., 12.,\n",
       "       13., 14., 15., 16., 17., 18., 19., 20., 21., 22., 23., 24., 25.])"
      ]
     },
     "execution_count": 47,
     "metadata": {},
     "output_type": "execute_result"
    }
   ],
   "source": []
  },
  {
   "cell_type": "code",
   "execution_count": null,
   "id": "54599d72-87d3-4c6d-9378-c00d66ccfe09",
   "metadata": {},
   "outputs": [],
   "source": []
  }
 ],
 "metadata": {
  "kernelspec": {
   "display_name": "M-L-and-S-Assessment-Kernel",
   "language": "python",
   "name": "m-l-and-s-assessment-kernel"
  },
  "language_info": {
   "codemirror_mode": {
    "name": "ipython",
    "version": 3
   },
   "file_extension": ".py",
   "mimetype": "text/x-python",
   "name": "python",
   "nbconvert_exporter": "python",
   "pygments_lexer": "ipython3",
   "version": "3.9.2"
  }
 },
 "nbformat": 4,
 "nbformat_minor": 5
}
