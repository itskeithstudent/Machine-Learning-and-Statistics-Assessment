{
 "cells": [
  {
   "cell_type": "markdown",
   "id": "521daca1-e05c-466c-88ac-f353098d8d49",
   "metadata": {},
   "source": [
    "# Scikit-Learn Overview\n"
   ]
  },
  {
   "cell_type": "code",
   "execution_count": 1,
   "id": "24d5b92d-3cdf-4842-b4eb-eb4150dc4a5e",
   "metadata": {},
   "outputs": [],
   "source": [
    "import sklearn"
   ]
  },
  {
   "cell_type": "markdown",
   "id": "10fecbd7-3e16-44f1-9baf-aef514065809",
   "metadata": {},
   "source": [
    "# Algorithm Demonstration"
   ]
  },
  {
   "cell_type": "code",
   "execution_count": null,
   "id": "a99a816a-4306-45bf-8e1e-742b4e71463b",
   "metadata": {},
   "outputs": [],
   "source": []
  },
  {
   "cell_type": "code",
   "execution_count": null,
   "id": "ccb20bf0-896a-4e82-9fab-88491fcbda07",
   "metadata": {},
   "outputs": [],
   "source": []
  }
 ],
 "metadata": {
  "kernelspec": {
   "display_name": "M-L-and-S-Assessment-Kernel",
   "language": "python",
   "name": "m-l-and-s-assessment-kernel"
  },
  "language_info": {
   "codemirror_mode": {
    "name": "ipython",
    "version": 3
   },
   "file_extension": ".py",
   "mimetype": "text/x-python",
   "name": "python",
   "nbconvert_exporter": "python",
   "pygments_lexer": "ipython3",
   "version": "3.9.2"
  }
 },
 "nbformat": 4,
 "nbformat_minor": 5
}
