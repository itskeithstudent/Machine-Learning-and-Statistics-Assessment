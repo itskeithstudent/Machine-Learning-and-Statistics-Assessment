{
 "cells": [
  {
   "cell_type": "markdown",
   "id": "cae63417-68fd-44d1-92ba-762a0c902578",
   "metadata": {},
   "source": [
    "# Scipy.Stats Overview\n"
   ]
  },
  {
   "cell_type": "code",
   "execution_count": 3,
   "id": "f595b51b-c795-49d5-a07f-0c0f6ca91042",
   "metadata": {},
   "outputs": [],
   "source": [
    "#import stats module from scipy package\n",
    "from scipy import stats"
   ]
  },
  {
   "cell_type": "markdown",
   "id": "b9b2899e-835b-4662-8f2e-78f0bef11dac",
   "metadata": {},
   "source": [
    "# Hypothesis testing with ANOVA\n",
    "\n",
    "ANOVA is a set of statistical tests for analysing the variation of different groups means. It allows you to determine whether or not the difference between population means are statistically significant.\n",
    "\n",
    "ANOVA gives an F value which can be interpreted to give a p-value, in general if the p-value is less than 0.05 then we can reject the null hypothesis that there is no difference in means.\n",
    "\n",
    "## Prerequisite Assumptions\n",
    "Before performing ANOVA, you should first check the following 6 assumptions are true, if any of your assumptions are not correct this casts doubt on whether ANOVA is a suitable test for your data.\n",
    "***\n",
    "1) Your dependent variable (y variable) should be a continuous variable.\n",
    "2) Your independent variable (X variable) should be a categorical variable and it should be made up of 2 or more groups (though if it's just 2 groups t-test is probably more appropriate)\n",
    "3) Observations should be independent, that is to say, if asking people for their favourite movie you wouldn't ask the same person twice.\n",
    "4) There should be no significant outliers.\n",
    "5) The dependent variable should be normally distributed across it's independent variable groups.\n",
    "6) The variance should be homogenous across each independent variable group.\n",
    "***\n",
    "\n",
    "For these assumptions, the first 3 can all be determined without doing any statistical tests, points 1 and 2 should be clear from looking at the data. As for point 3 on the observatiovs being independent, this is something you can't really confirm for yourself and when using data available online (suchas used in this notebook), but this is something you can control when collecting the data yourself.\n",
    "\n",
    "The rest of the assumptions can each be determined statistically.\n",
    "\n",
    "For determining outliers we can make use of box plot's to see if we have any points that fall outside of \n",
    "$ Q1 - IQR*1.5 $ and $ Q3 - IQR*1.5 $.\n",
    "\n",
    "Whether the dependent variable is normally distributed across its categories can be found using the Shapiro-Wilks test of normality.\n",
    "\n",
    "Variance Homogeneity can be determined using Levene's test.\n",
    "***\n",
    "\n",
    "Before actually performing the ANOVA test below, will first check that each of the assumptions outlined above are not violated"
   ]
  },
  {
   "cell_type": "code",
   "execution_count": 1,
   "id": "b011d10b-d08e-49a0-8865-7c921092a092",
   "metadata": {},
   "outputs": [],
   "source": [
    "#Todo add code for testing assumptions on some test dataset"
   ]
  },
  {
   "cell_type": "code",
   "execution_count": null,
   "id": "71708f58-0952-44cf-a613-d8318a82eb99",
   "metadata": {},
   "outputs": [],
   "source": []
  },
  {
   "cell_type": "markdown",
   "id": "4eeaf14b-5ba9-4133-b653-49f0d0ad578b",
   "metadata": {},
   "source": [
    "TODO - Add Post Hoc test for ANOVA"
   ]
  }
 ],
 "metadata": {
  "kernelspec": {
   "display_name": "M-L-and-S-Assessment-Kernel",
   "language": "python",
   "name": "m-l-and-s-assessment-kernel"
  },
  "language_info": {
   "codemirror_mode": {
    "name": "ipython",
    "version": 3
   },
   "file_extension": ".py",
   "mimetype": "text/x-python",
   "name": "python",
   "nbconvert_exporter": "python",
   "pygments_lexer": "ipython3",
   "version": "3.9.2"
  }
 },
 "nbformat": 4,
 "nbformat_minor": 5
}
