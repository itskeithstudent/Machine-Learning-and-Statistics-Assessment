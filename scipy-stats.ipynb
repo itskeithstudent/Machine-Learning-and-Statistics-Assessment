{
 "cells": [
  {
   "cell_type": "markdown",
   "id": "cae63417-68fd-44d1-92ba-762a0c902578",
   "metadata": {},
   "source": [
    "# Scipy.Stats Overview\n"
   ]
  },
  {
   "cell_type": "code",
   "execution_count": 3,
   "id": "f595b51b-c795-49d5-a07f-0c0f6ca91042",
   "metadata": {},
   "outputs": [],
   "source": [
    "#import stats module from scipy package\n",
    "from scipy import stats"
   ]
  },
  {
   "cell_type": "markdown",
   "id": "b9b2899e-835b-4662-8f2e-78f0bef11dac",
   "metadata": {},
   "source": [
    "# Hypothesis testing with ANOVA\n",
    "\n",
    "ANOVA is a set of statistical tests for analysing the variation of different groups means. It allows you to determine whether or not the difference between population means are statistically significant.\n",
    "\n",
    "ANOVA gives an F value which can be interpreted to give a p-value, in general if the p-value is less than 0.05 then we can reject the null hypothesis that there is no difference in means.\n",
    "\n",
    "## Prerequisite Assumptions\n",
    "Before performing ANOVA, you should first check the following 6 assumptions are true, if any of your assumptions are not correct this casts doubt on whether ANOVA is a suitable test for your data.\n",
    "***\n",
    "1) Your dependent variable (y variable) should be a continuous variable.\n",
    "2) Your independent variable (X variable) should be a categorical variable and it should be made up of 2 or more groups (though if it's just 2 groups t-test is probably more appropriate)\n",
    "3) Observations should be independent, that is to say, if asking people for their favourite movie you wouldn't ask the same person twice.\n",
    "4) There should be no significant outliers.\n",
    "5) The dependent variable should be normally distributed across it's independent variable groups.\n",
    "6) The variance should be homogenous across each independent variable group.\n",
    "***\n",
    "\n",
    "For these assumptions, the first 3 can all be determined without doing any statistical tests, points 1 and 2 should be clear from looking at the data. As for point 3 on the observatiovs being independent, this is something you can't really confirm for yourself and when using data available online (suchas used in this notebook), but this is something you can control when collecting the data yourself.\n",
    "\n",
    "The rest of the assumptions can each be determined statistically.\n",
    "\n",
    "For determining outliers we can make use of box plot's to see if we have any points that fall outside of \n",
    "$ Q1 - IQR*1.5 $ and $ Q3 - IQR*1.5 $.\n",
    "As another way of spotting outliers we can also use a z-score outside of the range of -3 to +3 to identify outliers.\n",
    "\n",
    "Whether the dependent variable is normally distributed across its categories can be found using the Shapiro-Wilks test of normality.\n",
    "\n",
    "Variance Homogeneity can be determined using Levene's test.\n",
    "***\n",
    "\n",
    "Before actually performing the ANOVA test below, will first check that each of the assumptions outlined above are not violated"
   ]
  },
  {
   "cell_type": "code",
   "execution_count": 88,
   "id": "b011d10b-d08e-49a0-8865-7c921092a092",
   "metadata": {},
   "outputs": [],
   "source": [
    "#Todo add code for testing assumptions on some test dataset\n",
    "from sklearn import datasets\n",
    "\n",
    "iris_ds = datasets.load_iris(as_frame=True) #get the iris dataset, bring in with dataframe also\n",
    "iris_independent_df = iris_ds.data #get dataframe from iris_ds\n",
    "iris_dependent_df = iris_ds.target\n",
    "independent_variable = 'petal length (cm)'"
   ]
  },
  {
   "cell_type": "code",
   "execution_count": 89,
   "id": "71708f58-0952-44cf-a613-d8318a82eb99",
   "metadata": {},
   "outputs": [
    {
     "name": "stdout",
     "output_type": "stream",
     "text": [
      "For this ANOVA test I'd like to pick 'petal length(cm)' to be the independent variable, a quick check of this column using pandas describe() function confirms assumption 1\n",
      "\n",
      "count    150.000000\n",
      "mean       3.758000\n",
      "std        1.765298\n",
      "min        1.000000\n",
      "25%        1.600000\n",
      "50%        4.350000\n",
      "75%        5.100000\n",
      "max        6.900000\n",
      "Name: petal length (cm), dtype: float64\n",
      "\n",
      "The following are our dependent variables groups/categories (these are represented as 0, 1 and 2 in iris_dependent_df) - ['setosa' 'versicolor' 'virginica']\n",
      "This confirms assumption 2 as we have a categorical variable with 3 groups\n"
     ]
    }
   ],
   "source": [
    "#Assumption 1 and Assumption 2\n",
    "\n",
    "print(f\"For this ANOVA test I'd like to pick 'petal length(cm)' to be the independent variable, a quick check of this column using pandas describe() function confirms assumption 1\")\n",
    "print(f\"\\n{iris_independent_df[independent_variable].describe()}\")\n",
    "\n",
    "print(f\"\\nThe following are our dependent variables groups/categories (these are represented as 0, 1 and 2 in iris_dependent_df) - {iris_ds.target_names}\")\n",
    "print(\"This confirms assumption 2 as we have a categorical variable with 3 groups\")"
   ]
  },
  {
   "cell_type": "markdown",
   "id": "9d296fea-dbc4-45ef-802e-790348864b98",
   "metadata": {},
   "source": [
    "### Assumption 4 - No significant outliers"
   ]
  },
  {
   "cell_type": "code",
   "execution_count": 90,
   "id": "11819e3f-78a8-4735-b4da-f5d5ca59b62c",
   "metadata": {},
   "outputs": [
    {
     "name": "stderr",
     "output_type": "stream",
     "text": [
      "c:\\users\\itske\\desktop\\education\\gmit modules\\machine learning and statistics 52954\\machine-learning-and-statistics-assessment\\env\\lib\\site-packages\\seaborn\\_decorators.py:36: FutureWarning: Pass the following variable as a keyword arg: x. From version 0.12, the only valid positional argument will be `data`, and passing other arguments without an explicit keyword will result in an error or misinterpretation.\n",
      "  warnings.warn(\n"
     ]
    },
    {
     "data": {
      "text/plain": [
       "<AxesSubplot:title={'center':'Checking for independent variable outliers'}, xlabel='petal length (cm)'>"
      ]
     },
     "execution_count": 90,
     "metadata": {},
     "output_type": "execute_result"
    },
    {
     "data": {
      "image/png": "[encoded data removed]",
      "text/plain": [
       "<Figure size 720x360 with 1 Axes>"
      ]
     },
     "metadata": {
      "needs_background": "light"
     },
     "output_type": "display_data"
    }
   ],
   "source": [
    "#Assumption 4 - No significant outliers\n",
    "import matplotlib.pyplot as plt\n",
    "import seaborn as sns\n",
    "\n",
    "plt.figure(figsize=(10,5)) #set figure size\n",
    "plt.title(\"Checking for independent variable outliers\")\n",
    "sns.boxplot(iris_independent_df[independent_variable]) #boxplot of independent variable\n"
   ]
  },
  {
   "cell_type": "markdown",
   "id": "11ba9054-ed01-4444-b2be-99d58114eba2",
   "metadata": {},
   "source": [
    "Boxplot doesn't show there as being any outliers, but to play it safe let's check with z-score also. To get the z-score will make use of the scipy [zscore function](https://docs.scipy.org/doc/scipy/reference/generated/scipy.stats.zscore.html)./"
   ]
  },
  {
   "cell_type": "code",
   "execution_count": 91,
   "id": "41261c75-4401-437f-85f8-8fd8e0ef8bfb",
   "metadata": {},
   "outputs": [],
   "source": [
    "import numpy as np\n",
    "z = stats.zscore(iris_independent_df[independent_variable]) #get z score for each value in our independent variable\n",
    "z_abs = np.abs(z) #get absolute value so we only need to check if z score is greater than 3\n",
    "\n",
    "#Loop through z_abs, print the z-score and row it occurred on if > 3, if outliers are encountered we at least know where they occur\n",
    "for row, value in enumerate(z_abs):\n",
    "    if value > 3:\n",
    "        print(f\"Outlier detected with z-score: {value}\\n Detected at row: {row}\")"
   ]
  },
  {
   "cell_type": "markdown",
   "id": "a2a4b690-adaf-40da-ba7a-025e7f30347e",
   "metadata": {},
   "source": [
    "We've confirmed there are no significant outliers, next will check whether assumption 5 is violated.\n",
    "\n",
    "### Assumption 5 - Dependent Variable normally distributed across categories\n",
    "\n",
    "To determine if the dependent variable is normally distributed, scipy-stats [shapiro function](https://docs.scipy.org/doc/scipy/reference/generated/scipy.stats.shapiro.html) is used, the returned p-value then tells us whether it is distributed normally.\n",
    "\n",
    "The null hypothesis for the Shapiro-Wilks is that a variable is normally distributed, so at values < 0.05 we reject the null hypothesis."
   ]
  },
  {
   "cell_type": "code",
   "execution_count": 95,
   "id": "15209ffb-7d06-4e2b-b70e-78a551cf352a",
   "metadata": {},
   "outputs": [
    {
     "name": "stdout",
     "output_type": "stream",
     "text": [
      "Shapiro-Wilks P-value for setosa (which just at the borderline for rejecting < 0.05) - 0.05481043830513954\n",
      "Shapiro-Wilks P-value for versicolor - 0.1584833413362503\n",
      "Shapiro-Wilks P-value for virginica - 0.10977369546890259\n"
     ]
    }
   ],
   "source": [
    "setosa_statistic, setosa_p_val = stats.shapiro(iris_independent_df[iris_dependent_df==0][independent_variable] )\n",
    "versicolor_statistic, versicolor_p_val = stats.shapiro(iris_independent_df[iris_dependent_df==1][independent_variable] )\n",
    "virginica_statistic, virginica_p_val = stats.shapiro(iris_independent_df[iris_dependent_df==2][independent_variable] )\n",
    "\n",
    "print(f\"Shapiro-Wilks P-value for setosa (which just at the borderline for rejecting < 0.05) - {setosa_p_val}\")\n",
    "print(f\"Shapiro-Wilks P-value for versicolor - {versicolor_p_val}\")\n",
    "print(f\"Shapiro-Wilks P-value for virginica - {virginica_p_val}\")"
   ]
  },
  {
   "cell_type": "markdown",
   "id": "1f4901ed-ab6a-4031-aaab-751d4ba2a9cd",
   "metadata": {},
   "source": [
    "Confirming each of our assumptions so far, leaves us with the final assumption to check.\n",
    "\n",
    "### Assumption 6 - Variance Homogeneity\n",
    "\n",
    "For determining whether the variance is homogenous e.g. that the variance is equal across groups, we use the p-value from the [levene function](https://docs.scipy.org/doc/scipy/reference/generated/scipy.stats.levene.html) in scipy-stats.\n",
    "\n",
    "The null hypothesis for the levene function is that the variance is equal, so if our p-value is < 0.05 we reject this hypothesis as our variance lacks homogeneity."
   ]
  },
  {
   "cell_type": "code",
   "execution_count": 96,
   "id": "591feaaa-d83d-42cf-b349-2ba1da77d5c3",
   "metadata": {},
   "outputs": [
    {
     "data": {
      "text/plain": [
       "LeveneResult(statistic=19.480338801923573, pvalue=3.1287566394085344e-08)"
      ]
     },
     "execution_count": 96,
     "metadata": {},
     "output_type": "execute_result"
    }
   ],
   "source": [
    "stats.levene(\n",
    "    iris_independent_df[iris_dependent_df==0][independent_variable],\n",
    "    iris_independent_df[iris_dependent_df==1][independent_variable],\n",
    "    iris_independent_df[iris_dependent_df==2][independent_variable]\n",
    ")"
   ]
  },
  {
   "cell_type": "markdown",
   "id": "1e106006-1174-4500-9d80-8b1c01e385a6",
   "metadata": {},
   "source": [
    "Unfortunately in this case we failed the last assumption as our pvalue is too low.\n",
    "\n",
    "Regardless for now let's perform ANOVA on this...\n",
    "\n",
    "If the returned p-value is less than 0.05, then we can reject the null hypothesis. \n",
    "The null hypothesis for ANOVA is that there is no difference between the means across the groups "
   ]
  },
  {
   "cell_type": "code",
   "execution_count": 97,
   "id": "138bd8e0-4907-4657-b7b8-cb161911c738",
   "metadata": {},
   "outputs": [
    {
     "data": {
      "text/plain": [
       "F_onewayResult(statistic=1180.161182252981, pvalue=2.8567766109615584e-91)"
      ]
     },
     "execution_count": 97,
     "metadata": {},
     "output_type": "execute_result"
    }
   ],
   "source": [
    "stats.f_oneway(\n",
    "    iris_independent_df[iris_dependent_df==0][independent_variable],\n",
    "    iris_independent_df[iris_dependent_df==1][independent_variable],\n",
    "    iris_independent_df[iris_dependent_df==2][independent_variable]\n",
    ")"
   ]
  },
  {
   "cell_type": "markdown",
   "id": "4eeaf14b-5ba9-4133-b653-49f0d0ad578b",
   "metadata": {},
   "source": [
    "### TODO - Add Post Hoc test for ANOVA"
   ]
  }
 ],
 "metadata": {
  "kernelspec": {
   "display_name": "M-L-and-S-Assessment-Kernel",
   "language": "python",
   "name": "m-l-and-s-assessment-kernel"
  },
  "language_info": {
   "codemirror_mode": {
    "name": "ipython",
    "version": 3
   },
   "file_extension": ".py",
   "mimetype": "text/x-python",
   "name": "python",
   "nbconvert_exporter": "python",
   "pygments_lexer": "ipython3",
   "version": "3.9.2"
  }
 },
 "nbformat": 4,
 "nbformat_minor": 5
}
