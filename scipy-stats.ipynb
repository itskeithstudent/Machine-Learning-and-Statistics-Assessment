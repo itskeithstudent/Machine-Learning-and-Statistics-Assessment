{
 "cells": [
  {
   "cell_type": "markdown",
   "id": "cae63417-68fd-44d1-92ba-762a0c902578",
   "metadata": {},
   "source": [
    "# Scipy.Stats Overview\n"
   ]
  },
  {
   "cell_type": "code",
   "execution_count": 3,
   "id": "f595b51b-c795-49d5-a07f-0c0f6ca91042",
   "metadata": {},
   "outputs": [],
   "source": [
    "#import stats module from scipy package\n",
    "from scipy import stats"
   ]
  },
  {
   "cell_type": "markdown",
   "id": "b9b2899e-835b-4662-8f2e-78f0bef11dac",
   "metadata": {},
   "source": [
    "# Hypothesis testing with ANOVA"
   ]
  },
  {
   "cell_type": "code",
   "execution_count": null,
   "id": "b011d10b-d08e-49a0-8865-7c921092a092",
   "metadata": {},
   "outputs": [],
   "source": []
  }
 ],
 "metadata": {
  "kernelspec": {
   "display_name": "M-L-and-S-Assessment-Kernel",
   "language": "python",
   "name": "m-l-and-s-assessment-kernel"
  },
  "language_info": {
   "codemirror_mode": {
    "name": "ipython",
    "version": 3
   },
   "file_extension": ".py",
   "mimetype": "text/x-python",
   "name": "python",
   "nbconvert_exporter": "python",
   "pygments_lexer": "ipython3",
   "version": "3.9.2"
  }
 },
 "nbformat": 4,
 "nbformat_minor": 5
}
